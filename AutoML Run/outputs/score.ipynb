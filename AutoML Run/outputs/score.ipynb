{
 "cells": [
  {
   "cell_type": "code",
   "execution_count": null,
   "id": "e26ee88e",
   "metadata": {},
   "outputs": [],
   "source": [
    "# ---------------------------------------------------------\n",
    "# Copyright (c) Microsoft Corporation. All rights reserved.\n",
    "# ---------------------------------------------------------\n",
    "import json\n",
    "import logging\n",
    "import os\n",
    "import pickle\n",
    "import numpy as np\n",
    "import pandas as pd\n",
    "import joblib"
   ]
  },
  {
   "cell_type": "code",
   "execution_count": null,
   "id": "6ec78dc8",
   "metadata": {},
   "outputs": [],
   "source": [
    "import azureml.automl.core\n",
    "from azureml.automl.core.shared import logging_utilities, log_server\n",
    "from azureml.telemetry import INSTRUMENTATION_KEY"
   ]
  },
  {
   "cell_type": "code",
   "execution_count": null,
   "id": "093b43f8",
   "metadata": {
    "lines_to_next_cell": 2
   },
   "outputs": [],
   "source": [
    "from inference_schema.schema_decorators import input_schema, output_schema\n",
    "from inference_schema.parameter_types.numpy_parameter_type import NumpyParameterType\n",
    "from inference_schema.parameter_types.pandas_parameter_type import PandasParameterType"
   ]
  },
  {
   "cell_type": "code",
   "execution_count": null,
   "id": "9bfac99b",
   "metadata": {},
   "outputs": [],
   "source": [
    "input_sample = pd.DataFrame({\"term\": pd.Series([0], dtype=\"int64\"), \"home_ownership\": pd.Series([\"example_value\"], dtype=\"object\"), \"purpose\": pd.Series([\"example_value\"], dtype=\"object\"), \"dti\": pd.Series([0.0], dtype=\"float64\"), \"revol_util\": pd.Series([0.0], dtype=\"float64\"), \"total_rec_late_fee\": pd.Series([0.0], dtype=\"float64\"), \"emp_length_num\": pd.Series([0], dtype=\"int64\"), \"short_emp\": pd.Series([0], dtype=\"int64\"), \"last_delinq_none\": pd.Series([0], dtype=\"int64\"), \"last_major_derog_none\": pd.Series([0], dtype=\"int64\")})\n",
    "output_sample = np.array([0])\n",
    "try:\n",
    "    log_server.enable_telemetry(INSTRUMENTATION_KEY)\n",
    "    log_server.set_verbosity('INFO')\n",
    "    logger = logging.getLogger('azureml.automl.core.scoring_script')\n",
    "except:\n",
    "    pass"
   ]
  },
  {
   "cell_type": "code",
   "execution_count": null,
   "id": "e485e445",
   "metadata": {},
   "outputs": [],
   "source": [
    "def init():\n",
    "    global model\n",
    "    # This name is model.id of model that we want to deploy deserialize the model file back\n",
    "    # into a sklearn model\n",
    "    model_path = os.path.join(os.getenv('AZUREML_MODEL_DIR'), 'model.pkl')\n",
    "    path = os.path.normpath(model_path)\n",
    "    path_split = path.split(os.sep)\n",
    "    log_server.update_custom_dimensions({'model_name': path_split[-3], 'model_version': path_split[-2]})\n",
    "    try:\n",
    "        logger.info(\"Loading model from path.\")\n",
    "        model = joblib.load(model_path)\n",
    "        logger.info(\"Loading successful.\")\n",
    "    except Exception as e:\n",
    "        logging_utilities.log_traceback(e, logger)\n",
    "        raise"
   ]
  },
  {
   "cell_type": "code",
   "execution_count": null,
   "id": "61c49938",
   "metadata": {},
   "outputs": [],
   "source": [
    "@input_schema('data', PandasParameterType(input_sample))\n",
    "@output_schema(NumpyParameterType(output_sample))\n",
    "def run(data):\n",
    "    try:\n",
    "        result = model.predict(data)\n",
    "        return json.dumps({\"result\": result.tolist()})\n",
    "    except Exception as e:\n",
    "        result = str(e)\n",
    "        return json.dumps({\"error\": result})"
   ]
  }
 ],
 "metadata": {
  "jupytext": {
   "cell_metadata_filter": "-all",
   "notebook_metadata_filter": "-all",
   "text_representation": {
    "extension": ".py",
    "format_name": "light"
   }
  },
  "kernelspec": {
   "display_name": "Python 3.6 - AzureML",
   "language": "python",
   "name": "python3-azureml"
  }
 },
 "nbformat": 4,
 "nbformat_minor": 5
}
