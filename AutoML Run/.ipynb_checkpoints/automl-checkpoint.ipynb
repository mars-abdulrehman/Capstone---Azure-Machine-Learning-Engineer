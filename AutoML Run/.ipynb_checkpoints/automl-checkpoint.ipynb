{
 "cells": [
  {
   "cell_type": "markdown",
   "metadata": {},
   "source": [
    "# Automated ML\n",
    "\n",
    "TODO: Import Dependencies. In the cell below, import all the dependencies that you will need to complete the project."
   ]
  },
  {
   "cell_type": "code",
   "execution_count": 1,
   "metadata": {
    "gather": {
     "logged": 1598423888013
    },
    "jupyter": {
     "outputs_hidden": false,
     "source_hidden": false
    },
    "nteract": {
     "transient": {
      "deleting": false
     }
    }
   },
   "outputs": [],
   "source": [
    "# from train import clean_data\n",
    "\n",
    "from azureml.train.automl import AutoMLConfig\n",
    "import azureml.core\n",
    "from azureml.core.experiment import Experiment\n",
    "from azureml.core.workspace import Workspace\n",
    "from azureml.train.automl import AutoMLConfig\n",
    "from azureml.core.dataset import Dataset\n",
    "from azureml.core.datastore import Datastore\n",
    "\n",
    "from azureml.pipeline.steps import AutoMLStep\n",
    "\n",
    "from azureml.core.compute import AmlCompute\n",
    "from azureml.core.compute import ComputeTarget\n",
    "from azureml.core.compute_target import ComputeTargetException\n",
    "\n",
    "from azureml.core import Model\n",
    "\n",
    "import json\n",
    "import pandas as pd"
   ]
  },
  {
   "cell_type": "markdown",
   "metadata": {},
   "source": [
    "## Dataset\n",
    "\n",
    "### Overview\n",
    "TODO: In this markdown cell, give an overview of the dataset you are using. Also mention the task you will be performing.\n",
    "\n",
    "\n",
    "TODO: Get data. In the cell below, write code to access the data you will be using in this project. Remember that the dataset needs to be external."
   ]
  },
  {
   "cell_type": "code",
   "execution_count": 2,
   "metadata": {
    "gather": {
     "logged": 1598423890461
    },
    "jupyter": {
     "outputs_hidden": false,
     "source_hidden": false
    },
    "nteract": {
     "transient": {
      "deleting": false
     }
    }
   },
   "outputs": [],
   "source": [
    "ws = Workspace.from_config()\n",
    "\n",
    "# choose a name for experiment\n",
    "experiment_name = 'AutoML_Bad_loan_detection'\n",
    "\n",
    "experiment=Experiment(ws, experiment_name)"
   ]
  },
  {
   "cell_type": "code",
   "execution_count": 3,
   "metadata": {},
   "outputs": [
    {
     "name": "stdout",
     "output_type": "stream",
     "text": [
      "Creating....\n",
      "SucceededProvisioning operation finished, operation \"Succeeded\"\n",
      "Succeeded....................\n",
      "AmlCompute wait for completion finished\n",
      "\n",
      "Minimum number of nodes requested have been provisioned\n"
     ]
    }
   ],
   "source": [
    "cpu_cluster_name = \"cpu-cluster\"\n",
    "try:\n",
    "    cpu_cluster = ComputeTarget(workspace=ws, name=cpu_cluster_name)\n",
    "    print('Found existing cluster, use it.')\n",
    "except ComputeTargetException:\n",
    "    compute_config = AmlCompute.provisioning_configuration(vm_size='Standard_D2_v2', max_nodes=4, min_nodes=4)\n",
    "    cpu_cluster = ComputeTarget.create(ws, cpu_cluster_name, compute_config)\n",
    "\n",
    "cpu_cluster.wait_for_completion(show_output=True)"
   ]
  },
  {
   "cell_type": "code",
   "execution_count": 4,
   "metadata": {},
   "outputs": [
    {
     "name": "stdout",
     "output_type": "stream",
     "text": [
      "{'currentNodeCount': 4, 'targetNodeCount': 4, 'nodeStateCounts': {'preparingNodeCount': 4, 'runningNodeCount': 0, 'idleNodeCount': 0, 'unusableNodeCount': 0, 'leavingNodeCount': 0, 'preemptedNodeCount': 0}, 'allocationState': 'Steady', 'allocationStateTransitionTime': '2021-04-18T18:07:24.247000+00:00', 'errors': None, 'creationTime': '2021-04-18T18:05:25.188644+00:00', 'modifiedTime': '2021-04-18T18:05:41.132431+00:00', 'provisioningState': 'Succeeded', 'provisioningStateTransitionTime': None, 'scaleSettings': {'minNodeCount': 4, 'maxNodeCount': 4, 'nodeIdleTimeBeforeScaleDown': ''}, 'vmPriority': 'Dedicated', 'vmSize': 'STANDARD_D2_V2'}\n"
     ]
    }
   ],
   "source": [
    "print(cpu_cluster.get_status().serialize())"
   ]
  },
  {
   "cell_type": "code",
   "execution_count": 5,
   "metadata": {},
   "outputs": [],
   "source": [
    "from azureml.data.dataset_factory import TabularDatasetFactory\n",
    "\n",
    "# Create TabularDataset using TabularDatasetFactory\n",
    "# Data is available at: \n",
    "# \"https://automlsamplenotebookdata.blob.core.windows.net/automl-sample-notebook-data/bankmarketing_train.csv\"\n",
    "\n",
    "### YOUR CODE HERE ###\n",
    "# from azureml.core.dataset import Dataset\n",
    "path=\"https://docs.google.com/spreadsheets/d/1nefE1jns3Ybj1SC0NjRsAcXGJJKVxJZ6-sfCR0G5t6s/gviz/tq?tqx=out:csv&sheet=loan_data\"\n",
    "ds = TabularDatasetFactory.from_delimited_files(path=path)\n",
    "\n",
    "train_ds, test_ds = ds.random_split(percentage=0.7, seed=123)"
   ]
  },
  {
   "cell_type": "code",
   "execution_count": 6,
   "metadata": {},
   "outputs": [],
   "source": [
    "#data = ds.to_pandas_dataframe()\n",
    "#print(df.describe())\n",
    "#print(df.head())\n",
    "data_df = ds.to_pandas_dataframe()"
   ]
  },
  {
   "cell_type": "code",
   "execution_count": 8,
   "metadata": {},
   "outputs": [
    {
     "data": {
      "text/html": [
       "<div>\n",
       "<style scoped>\n",
       "    .dataframe tbody tr th:only-of-type {\n",
       "        vertical-align: middle;\n",
       "    }\n",
       "\n",
       "    .dataframe tbody tr th {\n",
       "        vertical-align: top;\n",
       "    }\n",
       "\n",
       "    .dataframe thead th {\n",
       "        text-align: right;\n",
       "    }\n",
       "</style>\n",
       "<table border=\"1\" class=\"dataframe\">\n",
       "  <thead>\n",
       "    <tr style=\"text-align: right;\">\n",
       "      <th></th>\n",
       "      <th>term</th>\n",
       "      <th>home_ownership</th>\n",
       "      <th>purpose</th>\n",
       "      <th>dti</th>\n",
       "      <th>revol_util</th>\n",
       "      <th>total_rec_late_fee</th>\n",
       "      <th>emp_length_num</th>\n",
       "      <th>short_emp</th>\n",
       "      <th>last_delinq_none</th>\n",
       "      <th>last_major_derog_none</th>\n",
       "      <th>bad_loans</th>\n",
       "    </tr>\n",
       "  </thead>\n",
       "  <tbody>\n",
       "    <tr>\n",
       "      <th>0</th>\n",
       "      <td>36</td>\n",
       "      <td>MORTGAGE</td>\n",
       "      <td>credit_card</td>\n",
       "      <td>8.64</td>\n",
       "      <td>80.1</td>\n",
       "      <td>0.0000</td>\n",
       "      <td>7</td>\n",
       "      <td>0</td>\n",
       "      <td>0</td>\n",
       "      <td>1</td>\n",
       "      <td>0</td>\n",
       "    </tr>\n",
       "    <tr>\n",
       "      <th>1</th>\n",
       "      <td>60</td>\n",
       "      <td>OWN</td>\n",
       "      <td>other</td>\n",
       "      <td>6.24</td>\n",
       "      <td>41.0</td>\n",
       "      <td>0.0000</td>\n",
       "      <td>11</td>\n",
       "      <td>0</td>\n",
       "      <td>0</td>\n",
       "      <td>0</td>\n",
       "      <td>0</td>\n",
       "    </tr>\n",
       "    <tr>\n",
       "      <th>2</th>\n",
       "      <td>36</td>\n",
       "      <td>MORTGAGE</td>\n",
       "      <td>debt_consolidation</td>\n",
       "      <td>34.36</td>\n",
       "      <td>12.7</td>\n",
       "      <td>0.0000</td>\n",
       "      <td>6</td>\n",
       "      <td>0</td>\n",
       "      <td>1</td>\n",
       "      <td>1</td>\n",
       "      <td>0</td>\n",
       "    </tr>\n",
       "    <tr>\n",
       "      <th>3</th>\n",
       "      <td>36</td>\n",
       "      <td>RENT</td>\n",
       "      <td>debt_consolidation</td>\n",
       "      <td>7.28</td>\n",
       "      <td>46.9</td>\n",
       "      <td>45.3717</td>\n",
       "      <td>3</td>\n",
       "      <td>0</td>\n",
       "      <td>0</td>\n",
       "      <td>1</td>\n",
       "      <td>1</td>\n",
       "    </tr>\n",
       "    <tr>\n",
       "      <th>4</th>\n",
       "      <td>36</td>\n",
       "      <td>RENT</td>\n",
       "      <td>debt_consolidation</td>\n",
       "      <td>25.03</td>\n",
       "      <td>65.2</td>\n",
       "      <td>0.0000</td>\n",
       "      <td>7</td>\n",
       "      <td>0</td>\n",
       "      <td>1</td>\n",
       "      <td>1</td>\n",
       "      <td>0</td>\n",
       "    </tr>\n",
       "  </tbody>\n",
       "</table>\n",
       "</div>"
      ],
      "text/plain": [
       "   term home_ownership             purpose    dti  revol_util  \\\n",
       "0    36       MORTGAGE         credit_card   8.64        80.1   \n",
       "1    60            OWN               other   6.24        41.0   \n",
       "2    36       MORTGAGE  debt_consolidation  34.36        12.7   \n",
       "3    36           RENT  debt_consolidation   7.28        46.9   \n",
       "4    36           RENT  debt_consolidation  25.03        65.2   \n",
       "\n",
       "   total_rec_late_fee  emp_length_num  short_emp  last_delinq_none  \\\n",
       "0              0.0000               7          0                 0   \n",
       "1              0.0000              11          0                 0   \n",
       "2              0.0000               6          0                 1   \n",
       "3             45.3717               3          0                 0   \n",
       "4              0.0000               7          0                 1   \n",
       "\n",
       "   last_major_derog_none  bad_loans  \n",
       "0                      1          0  \n",
       "1                      0          0  \n",
       "2                      1          0  \n",
       "3                      1          1  \n",
       "4                      1          0  "
      ]
     },
     "execution_count": 8,
     "metadata": {},
     "output_type": "execute_result"
    }
   ],
   "source": [
    "data_df.head()"
   ]
  },
  {
   "cell_type": "code",
   "execution_count": 9,
   "metadata": {},
   "outputs": [
    {
     "data": {
      "text/html": [
       "<div>\n",
       "<style scoped>\n",
       "    .dataframe tbody tr th:only-of-type {\n",
       "        vertical-align: middle;\n",
       "    }\n",
       "\n",
       "    .dataframe tbody tr th {\n",
       "        vertical-align: top;\n",
       "    }\n",
       "\n",
       "    .dataframe thead th {\n",
       "        text-align: right;\n",
       "    }\n",
       "</style>\n",
       "<table border=\"1\" class=\"dataframe\">\n",
       "  <thead>\n",
       "    <tr style=\"text-align: right;\">\n",
       "      <th></th>\n",
       "      <th>term</th>\n",
       "      <th>dti</th>\n",
       "      <th>revol_util</th>\n",
       "      <th>total_rec_late_fee</th>\n",
       "      <th>emp_length_num</th>\n",
       "      <th>short_emp</th>\n",
       "      <th>last_delinq_none</th>\n",
       "      <th>last_major_derog_none</th>\n",
       "      <th>bad_loans</th>\n",
       "    </tr>\n",
       "  </thead>\n",
       "  <tbody>\n",
       "    <tr>\n",
       "      <th>count</th>\n",
       "      <td>46025.000000</td>\n",
       "      <td>46025.00000</td>\n",
       "      <td>46025.000000</td>\n",
       "      <td>46025.000000</td>\n",
       "      <td>46025.000000</td>\n",
       "      <td>46025.000000</td>\n",
       "      <td>46025.000000</td>\n",
       "      <td>46025.000000</td>\n",
       "      <td>46025.000000</td>\n",
       "    </tr>\n",
       "    <tr>\n",
       "      <th>mean</th>\n",
       "      <td>42.058273</td>\n",
       "      <td>16.11657</td>\n",
       "      <td>55.832184</td>\n",
       "      <td>1.298251</td>\n",
       "      <td>6.348637</td>\n",
       "      <td>0.129430</td>\n",
       "      <td>0.588571</td>\n",
       "      <td>0.875459</td>\n",
       "      <td>0.502988</td>\n",
       "    </tr>\n",
       "    <tr>\n",
       "      <th>std</th>\n",
       "      <td>10.425845</td>\n",
       "      <td>7.59327</td>\n",
       "      <td>25.412713</td>\n",
       "      <td>7.040901</td>\n",
       "      <td>3.754248</td>\n",
       "      <td>0.335679</td>\n",
       "      <td>0.492098</td>\n",
       "      <td>0.330201</td>\n",
       "      <td>0.499997</td>\n",
       "    </tr>\n",
       "    <tr>\n",
       "      <th>min</th>\n",
       "      <td>36.000000</td>\n",
       "      <td>0.00000</td>\n",
       "      <td>0.000000</td>\n",
       "      <td>0.000000</td>\n",
       "      <td>0.000000</td>\n",
       "      <td>0.000000</td>\n",
       "      <td>0.000000</td>\n",
       "      <td>0.000000</td>\n",
       "      <td>0.000000</td>\n",
       "    </tr>\n",
       "    <tr>\n",
       "      <th>25%</th>\n",
       "      <td>36.000000</td>\n",
       "      <td>10.51000</td>\n",
       "      <td>37.600000</td>\n",
       "      <td>0.000000</td>\n",
       "      <td>3.000000</td>\n",
       "      <td>0.000000</td>\n",
       "      <td>0.000000</td>\n",
       "      <td>1.000000</td>\n",
       "      <td>0.000000</td>\n",
       "    </tr>\n",
       "    <tr>\n",
       "      <th>50%</th>\n",
       "      <td>36.000000</td>\n",
       "      <td>16.00000</td>\n",
       "      <td>58.200000</td>\n",
       "      <td>0.000000</td>\n",
       "      <td>6.000000</td>\n",
       "      <td>0.000000</td>\n",
       "      <td>1.000000</td>\n",
       "      <td>1.000000</td>\n",
       "      <td>1.000000</td>\n",
       "    </tr>\n",
       "    <tr>\n",
       "      <th>75%</th>\n",
       "      <td>60.000000</td>\n",
       "      <td>21.56000</td>\n",
       "      <td>76.200000</td>\n",
       "      <td>0.000000</td>\n",
       "      <td>11.000000</td>\n",
       "      <td>0.000000</td>\n",
       "      <td>1.000000</td>\n",
       "      <td>1.000000</td>\n",
       "      <td>1.000000</td>\n",
       "    </tr>\n",
       "    <tr>\n",
       "      <th>max</th>\n",
       "      <td>60.000000</td>\n",
       "      <td>38.60000</td>\n",
       "      <td>150.700000</td>\n",
       "      <td>208.820000</td>\n",
       "      <td>11.000000</td>\n",
       "      <td>1.000000</td>\n",
       "      <td>1.000000</td>\n",
       "      <td>1.000000</td>\n",
       "      <td>1.000000</td>\n",
       "    </tr>\n",
       "  </tbody>\n",
       "</table>\n",
       "</div>"
      ],
      "text/plain": [
       "               term          dti    revol_util  total_rec_late_fee  \\\n",
       "count  46025.000000  46025.00000  46025.000000        46025.000000   \n",
       "mean      42.058273     16.11657     55.832184            1.298251   \n",
       "std       10.425845      7.59327     25.412713            7.040901   \n",
       "min       36.000000      0.00000      0.000000            0.000000   \n",
       "25%       36.000000     10.51000     37.600000            0.000000   \n",
       "50%       36.000000     16.00000     58.200000            0.000000   \n",
       "75%       60.000000     21.56000     76.200000            0.000000   \n",
       "max       60.000000     38.60000    150.700000          208.820000   \n",
       "\n",
       "       emp_length_num     short_emp  last_delinq_none  last_major_derog_none  \\\n",
       "count    46025.000000  46025.000000      46025.000000           46025.000000   \n",
       "mean         6.348637      0.129430          0.588571               0.875459   \n",
       "std          3.754248      0.335679          0.492098               0.330201   \n",
       "min          0.000000      0.000000          0.000000               0.000000   \n",
       "25%          3.000000      0.000000          0.000000               1.000000   \n",
       "50%          6.000000      0.000000          1.000000               1.000000   \n",
       "75%         11.000000      0.000000          1.000000               1.000000   \n",
       "max         11.000000      1.000000          1.000000               1.000000   \n",
       "\n",
       "          bad_loans  \n",
       "count  46025.000000  \n",
       "mean       0.502988  \n",
       "std        0.499997  \n",
       "min        0.000000  \n",
       "25%        0.000000  \n",
       "50%        1.000000  \n",
       "75%        1.000000  \n",
       "max        1.000000  "
      ]
     },
     "execution_count": 9,
     "metadata": {},
     "output_type": "execute_result"
    }
   ],
   "source": [
    "data_df.describe()"
   ]
  },
  {
   "cell_type": "markdown",
   "metadata": {},
   "source": [
    "## AutoML Configuration\n",
    "\n",
    "TODO: Explain why you chose the automl settings and cofiguration you used below."
   ]
  },
  {
   "cell_type": "code",
   "execution_count": 7,
   "metadata": {
    "gather": {
     "logged": 1598429217746
    },
    "jupyter": {
     "outputs_hidden": false,
     "source_hidden": false
    },
    "nteract": {
     "transient": {
      "deleting": false
     }
    }
   },
   "outputs": [],
   "source": [
    "# TODO: Put your automl settings here\n",
    "automl_settings = {\n",
    "    \"experiment_timeout_minutes\":30, # To make sure the experiment finishes on time before the timeout as per lab instructions\n",
    "    \"max_concurrent_iterations\": 5, # To reach highest level of concurrency as per cluster configuration\n",
    "    \"primary_metric\" : 'AUC_weighted' # To identify the score of each model that AutoML trains\n",
    "}\n",
    "# TODO: Put your automl config here\n",
    "automl_config = AutoMLConfig(\n",
    "    name='Automated ML pipeline',\n",
    "    compute_target=cpu_cluster,\n",
    "    training_data = train_ds,\n",
    "    validation_data = test_ds,\n",
    "    enable_early_stopping= True,\n",
    "    featurization= 'auto',\n",
    "    debug_log = 'automl_errors.log',\n",
    "    task='classification',\n",
    "    label_column_name='bad_loans',\n",
    "    **automl_settings)\n"
   ]
  },
  {
   "cell_type": "code",
   "execution_count": 8,
   "metadata": {
    "gather": {
     "logged": 1598431107951
    },
    "jupyter": {
     "outputs_hidden": false,
     "source_hidden": false
    },
    "nteract": {
     "transient": {
      "deleting": false
     }
    }
   },
   "outputs": [
    {
     "name": "stdout",
     "output_type": "stream",
     "text": [
      "Submitting remote run.\n"
     ]
    },
    {
     "data": {
      "text/html": [
       "<table style=\"width:100%\"><tr><th>Experiment</th><th>Id</th><th>Type</th><th>Status</th><th>Details Page</th><th>Docs Page</th></tr><tr><td>AutoML_Bad_loan_detection</td><td>AutoML_a3c272b0-8768-4d9c-b9c8-547f08a0283d</td><td>automl</td><td>NotStarted</td><td><a href=\"https://ml.azure.com/runs/AutoML_a3c272b0-8768-4d9c-b9c8-547f08a0283d?wsid=/subscriptions/976ee174-3882-4721-b90a-b5fef6b72f24/resourcegroups/aml-quickstarts-143071/workspaces/quick-starts-ws-143071&amp;tid=660b3398-b80e-49d2-bc5b-ac1dc93b5254\" target=\"_blank\" rel=\"noopener\">Link to Azure Machine Learning studio</a></td><td><a href=\"https://docs.microsoft.com/en-us/python/api/overview/azure/ml/intro?view=azure-ml-py\" target=\"_blank\" rel=\"noopener\">Link to Documentation</a></td></tr></table>"
      ],
      "text/plain": [
       "<IPython.core.display.HTML object>"
      ]
     },
     "metadata": {},
     "output_type": "display_data"
    }
   ],
   "source": [
    "# TODO: Submit your experiment\n",
    "automl_run = experiment.submit(automl_config)"
   ]
  },
  {
   "cell_type": "markdown",
   "metadata": {},
   "source": [
    "## Run Details\n",
    "\n",
    "OPTIONAL: Write about the different models trained and their performance. Why do you think some models did better than others?\n",
    "\n",
    "TODO: In the cell below, use the `RunDetails` widget to show the different experiments."
   ]
  },
  {
   "cell_type": "code",
   "execution_count": 9,
   "metadata": {
    "gather": {
     "logged": 1598431121770
    },
    "jupyter": {
     "outputs_hidden": false,
     "source_hidden": false
    },
    "nteract": {
     "transient": {
      "deleting": false
     }
    }
   },
   "outputs": [
    {
     "data": {
      "application/vnd.jupyter.widget-view+json": {
       "model_id": "c15dc64d2ef448b39bd7e2432570b287",
       "version_major": 2,
       "version_minor": 0
      },
      "text/plain": [
       "_AutoMLWidget(widget_settings={'childWidgetDisplay': 'popup', 'send_telemetry': False, 'log_level': 'INFO', 's…"
      ]
     },
     "metadata": {},
     "output_type": "display_data"
    },
    {
     "data": {
      "application/aml.mini.widget.v1": "{\"status\": \"Completed\", \"workbench_run_details_uri\": \"https://ml.azure.com/runs/AutoML_a3c272b0-8768-4d9c-b9c8-547f08a0283d?wsid=/subscriptions/976ee174-3882-4721-b90a-b5fef6b72f24/resourcegroups/aml-quickstarts-143071/workspaces/quick-starts-ws-143071&tid=660b3398-b80e-49d2-bc5b-ac1dc93b5254\", \"run_id\": \"AutoML_a3c272b0-8768-4d9c-b9c8-547f08a0283d\", \"run_properties\": {\"run_id\": \"AutoML_a3c272b0-8768-4d9c-b9c8-547f08a0283d\", \"created_utc\": \"2021-04-18T18:19:31.335077Z\", \"properties\": {\"num_iterations\": \"1000\", \"training_type\": \"TrainFull\", \"acquisition_function\": \"EI\", \"primary_metric\": \"AUC_weighted\", \"train_split\": \"0\", \"acquisition_parameter\": \"0\", \"num_cross_validation\": null, \"target\": \"cpu-cluster\", \"AMLSettingsJsonString\": \"{\\\"path\\\":null,\\\"name\\\":\\\"Automated ML pipeline\\\",\\\"subscription_id\\\":\\\"976ee174-3882-4721-b90a-b5fef6b72f24\\\",\\\"resource_group\\\":\\\"aml-quickstarts-143071\\\",\\\"workspace_name\\\":\\\"quick-starts-ws-143071\\\",\\\"region\\\":\\\"southcentralus\\\",\\\"compute_target\\\":\\\"cpu-cluster\\\",\\\"spark_service\\\":null,\\\"azure_service\\\":\\\"remote\\\",\\\"many_models\\\":false,\\\"pipeline_fetch_max_batch_size\\\":1,\\\"enable_batch_run\\\":false,\\\"enable_run_restructure\\\":false,\\\"iterations\\\":1000,\\\"primary_metric\\\":\\\"AUC_weighted\\\",\\\"task_type\\\":\\\"classification\\\",\\\"data_script\\\":null,\\\"test_size\\\":0.0,\\\"validation_size\\\":0.0,\\\"n_cross_validations\\\":null,\\\"y_min\\\":null,\\\"y_max\\\":null,\\\"num_classes\\\":null,\\\"featurization\\\":\\\"auto\\\",\\\"_ignore_package_version_incompatibilities\\\":false,\\\"is_timeseries\\\":false,\\\"max_cores_per_iteration\\\":1,\\\"max_concurrent_iterations\\\":5,\\\"iteration_timeout_minutes\\\":null,\\\"mem_in_mb\\\":null,\\\"enforce_time_on_windows\\\":false,\\\"experiment_timeout_minutes\\\":30,\\\"experiment_exit_score\\\":null,\\\"whitelist_models\\\":null,\\\"blacklist_algos\\\":[\\\"TensorFlowLinearClassifier\\\",\\\"TensorFlowDNN\\\"],\\\"supported_models\\\":[\\\"SGD\\\",\\\"SVM\\\",\\\"DecisionTree\\\",\\\"KNN\\\",\\\"LogisticRegression\\\",\\\"LinearSVM\\\",\\\"GradientBoosting\\\",\\\"MultinomialNaiveBayes\\\",\\\"ExtremeRandomTrees\\\",\\\"TensorFlowDNN\\\",\\\"AveragedPerceptronClassifier\\\",\\\"TensorFlowLinearClassifier\\\",\\\"RandomForest\\\",\\\"XGBoostClassifier\\\",\\\"LightGBM\\\",\\\"BernoulliNaiveBayes\\\"],\\\"private_models\\\":[],\\\"auto_blacklist\\\":true,\\\"blacklist_samples_reached\\\":false,\\\"exclude_nan_labels\\\":true,\\\"verbosity\\\":20,\\\"_debug_log\\\":\\\"azureml_automl.log\\\",\\\"show_warnings\\\":false,\\\"model_explainability\\\":true,\\\"service_url\\\":null,\\\"sdk_url\\\":null,\\\"sdk_packages\\\":null,\\\"enable_onnx_compatible_models\\\":false,\\\"enable_split_onnx_featurizer_estimator_models\\\":false,\\\"vm_type\\\":\\\"STANDARD_D2_V2\\\",\\\"telemetry_verbosity\\\":20,\\\"send_telemetry\\\":true,\\\"enable_dnn\\\":false,\\\"scenario\\\":\\\"SDK-1.13.0\\\",\\\"environment_label\\\":null,\\\"save_mlflow\\\":false,\\\"force_text_dnn\\\":false,\\\"enable_feature_sweeping\\\":true,\\\"enable_early_stopping\\\":true,\\\"early_stopping_n_iters\\\":10,\\\"metrics\\\":null,\\\"enable_metric_confidence\\\":false,\\\"enable_ensembling\\\":true,\\\"enable_stack_ensembling\\\":true,\\\"ensemble_iterations\\\":15,\\\"enable_tf\\\":false,\\\"enable_subsampling\\\":null,\\\"subsample_seed\\\":null,\\\"enable_nimbusml\\\":false,\\\"enable_streaming\\\":false,\\\"force_streaming\\\":false,\\\"track_child_runs\\\":true,\\\"allowed_private_models\\\":[],\\\"label_column_name\\\":\\\"bad_loans\\\",\\\"weight_column_name\\\":null,\\\"cv_split_column_names\\\":null,\\\"enable_local_managed\\\":false,\\\"_local_managed_run_id\\\":null,\\\"cost_mode\\\":1,\\\"lag_length\\\":0,\\\"metric_operation\\\":\\\"maximize\\\",\\\"preprocess\\\":true}\", \"DataPrepJsonString\": \"{\\\\\\\"training_data\\\\\\\": {\\\\\\\"datasetId\\\\\\\": \\\\\\\"a04324bd-6a4e-4191-81f0-f8ef47f07af8\\\\\\\"}, \\\\\\\"validation_data\\\\\\\": {\\\\\\\"datasetId\\\\\\\": \\\\\\\"5a5b5873-57c7-41a3-8244-38ae97f3eee1\\\\\\\"}, \\\\\\\"datasets\\\\\\\": 0}\", \"EnableSubsampling\": null, \"runTemplate\": \"AutoML\", \"azureml.runsource\": \"automl\", \"display_task_type\": \"classification\", \"dependencies_versions\": \"{\\\"azureml-widgets\\\": \\\"1.26.0\\\", \\\"azureml-train\\\": \\\"1.26.0\\\", \\\"azureml-train-restclients-hyperdrive\\\": \\\"1.26.0\\\", \\\"azureml-train-core\\\": \\\"1.26.0\\\", \\\"azureml-train-automl\\\": \\\"1.26.0\\\", \\\"azureml-train-automl-runtime\\\": \\\"1.26.0\\\", \\\"azureml-train-automl-client\\\": \\\"1.26.0\\\", \\\"azureml-tensorboard\\\": \\\"1.26.0\\\", \\\"azureml-telemetry\\\": \\\"1.26.0\\\", \\\"azureml-sdk\\\": \\\"1.26.0\\\", \\\"azureml-samples\\\": \\\"0+unknown\\\", \\\"azureml-pipeline\\\": \\\"1.26.0\\\", \\\"azureml-pipeline-steps\\\": \\\"1.26.0\\\", \\\"azureml-pipeline-core\\\": \\\"1.26.0\\\", \\\"azureml-opendatasets\\\": \\\"1.26.0\\\", \\\"azureml-model-management-sdk\\\": \\\"1.0.1b6.post1\\\", \\\"azureml-mlflow\\\": \\\"1.26.0\\\", \\\"azureml-interpret\\\": \\\"1.26.0\\\", \\\"azureml-explain-model\\\": \\\"1.26.0\\\", \\\"azureml-defaults\\\": \\\"1.26.0\\\", \\\"azureml-dataset-runtime\\\": \\\"1.26.0\\\", \\\"azureml-dataprep\\\": \\\"2.13.2\\\", \\\"azureml-dataprep-rslex\\\": \\\"1.11.2\\\", \\\"azureml-dataprep-native\\\": \\\"32.0.0\\\", \\\"azureml-datadrift\\\": \\\"1.26.0\\\", \\\"azureml-core\\\": \\\"1.26.0\\\", \\\"azureml-contrib-services\\\": \\\"1.26.0\\\", \\\"azureml-contrib-server\\\": \\\"1.26.0\\\", \\\"azureml-contrib-reinforcementlearning\\\": \\\"1.26.0\\\", \\\"azureml-contrib-pipeline-steps\\\": \\\"1.26.0\\\", \\\"azureml-contrib-notebook\\\": \\\"1.26.0\\\", \\\"azureml-contrib-gbdt\\\": \\\"1.26.0\\\", \\\"azureml-contrib-fairness\\\": \\\"1.26.0\\\", \\\"azureml-contrib-dataset\\\": \\\"1.26.0\\\", \\\"azureml-cli-common\\\": \\\"1.26.0\\\", \\\"azureml-automl-runtime\\\": \\\"1.26.0\\\", \\\"azureml-automl-dnn-nlp\\\": \\\"1.26.0\\\", \\\"azureml-automl-core\\\": \\\"1.26.0\\\", \\\"azureml-accel-models\\\": \\\"1.26.0\\\"}\", \"_aml_system_scenario_identification\": \"Remote.Parent\", \"ClientType\": \"SDK\", \"environment_cpu_name\": \"AzureML-AutoML\", \"environment_cpu_label\": \"prod\", \"environment_gpu_name\": \"AzureML-AutoML-GPU\", \"environment_gpu_label\": \"prod\", \"root_attribution\": \"automl\", \"attribution\": \"AutoML\", \"Orchestrator\": \"AutoML\", \"CancelUri\": \"https://southcentralus.experiments.azureml.net/jasmine/v1.0/subscriptions/976ee174-3882-4721-b90a-b5fef6b72f24/resourceGroups/aml-quickstarts-143071/providers/Microsoft.MachineLearningServices/workspaces/quick-starts-ws-143071/experimentids/e03659aa-0cc7-4eaf-8cfb-68e02fcc675a/cancel/AutoML_a3c272b0-8768-4d9c-b9c8-547f08a0283d\", \"ClientSdkVersion\": \"1.25.0\", \"snapshotId\": \"00000000-0000-0000-0000-000000000000\", \"SetupRunId\": \"AutoML_a3c272b0-8768-4d9c-b9c8-547f08a0283d_setup\", \"SetupRunContainerId\": \"dcid.AutoML_a3c272b0-8768-4d9c-b9c8-547f08a0283d_setup\", \"FeaturizationRunJsonPath\": \"featurizer_container.json\", \"FeaturizationRunId\": \"AutoML_a3c272b0-8768-4d9c-b9c8-547f08a0283d_featurize\", \"ProblemInfoJsonString\": \"{\\\"dataset_num_categorical\\\": 0, \\\"is_sparse\\\": true, \\\"subsampling\\\": false, \\\"dataset_classes\\\": 2, \\\"dataset_features\\\": 35, \\\"dataset_samples\\\": 32116, \\\"single_frequency_class_detected\\\": false}\", \"ModelExplainRunId\": \"AutoML_a3c272b0-8768-4d9c-b9c8-547f08a0283d_ModelExplain\"}, \"tags\": {\"model_explain_run\": \"best_run\", \"_aml_system_azureml.automlComponent\": \"AutoML\", \"pipeline_id\": \"\", \"score\": \"\", \"predicted_cost\": \"\", \"fit_time\": \"\", \"training_percent\": \"\", \"iteration\": \"\", \"run_preprocessor\": \"\", \"run_algorithm\": \"\", \"dynamic_whitelisting_iterations\": \"<25>;<30>;<35>;\", \"automl_best_child_run_id\": \"AutoML_a3c272b0-8768-4d9c-b9c8-547f08a0283d_38\", \"model_explain_best_run_child_id\": \"AutoML_a3c272b0-8768-4d9c-b9c8-547f08a0283d_38\"}, \"end_time_utc\": \"2021-04-18T18:42:03.048316Z\", \"status\": \"Completed\", \"log_files\": {}, \"log_groups\": [], \"run_duration\": \"0:22:31\", \"run_number\": \"1\", \"run_queued_details\": {\"status\": \"Completed\", \"details\": null}}, \"child_runs\": [{\"run_id\": \"AutoML_a3c272b0-8768-4d9c-b9c8-547f08a0283d_0\", \"run_number\": 5, \"metric\": null, \"status\": \"Completed\", \"run_type\": \"azureml.scriptrun\", \"training_percent\": \"100\", \"start_time\": \"2021-04-18T18:30:46.922609Z\", \"end_time\": \"2021-04-18T18:32:49.556723Z\", \"created_time\": \"2021-04-18T18:30:35.932942Z\", \"created_time_dt\": \"2021-04-18T18:30:35.932942Z\", \"duration\": \"0:02:13\", \"iteration\": \"0\", \"goal\": \"AUC_weighted_max\", \"run_name\": \"MaxAbsScaler, LightGBM\", \"run_properties\": \"copy=True\", \"primary_metric\": 0.6671913, \"best_metric\": 0.6671913}, {\"run_id\": \"AutoML_a3c272b0-8768-4d9c-b9c8-547f08a0283d_4\", \"run_number\": 6, \"metric\": null, \"status\": \"Completed\", \"run_type\": \"azureml.scriptrun\", \"training_percent\": \"100\", \"start_time\": \"2021-04-18T18:30:49.04015Z\", \"end_time\": \"2021-04-18T18:32:49.232107Z\", \"created_time\": \"2021-04-18T18:30:35.945018Z\", \"created_time_dt\": \"2021-04-18T18:30:35.945018Z\", \"duration\": \"0:02:13\", \"iteration\": \"4\", \"goal\": \"AUC_weighted_max\", \"run_name\": \"MaxAbsScaler, RandomForest\", \"run_properties\": \"copy=True\", \"primary_metric\": 0.63889893, \"best_metric\": 0.67092175}, {\"run_id\": \"AutoML_a3c272b0-8768-4d9c-b9c8-547f08a0283d_1\", \"run_number\": 7, \"metric\": null, \"status\": \"Completed\", \"run_type\": \"azureml.scriptrun\", \"training_percent\": \"100\", \"start_time\": \"2021-04-18T18:30:46.822083Z\", \"end_time\": \"2021-04-18T18:31:51.845046Z\", \"created_time\": \"2021-04-18T18:30:35.96702Z\", \"created_time_dt\": \"2021-04-18T18:30:35.96702Z\", \"duration\": \"0:01:15\", \"iteration\": \"1\", \"goal\": \"AUC_weighted_max\", \"run_name\": \"MaxAbsScaler, XGBoostClassifier\", \"run_properties\": \"copy=True\", \"primary_metric\": 0.67092175, \"best_metric\": 0.67092175}, {\"run_id\": \"AutoML_a3c272b0-8768-4d9c-b9c8-547f08a0283d_2\", \"run_number\": 8, \"metric\": null, \"status\": \"Completed\", \"run_type\": \"azureml.scriptrun\", \"training_percent\": \"100\", \"start_time\": \"2021-04-18T18:30:46.941813Z\", \"end_time\": \"2021-04-18T18:32:45.033929Z\", \"created_time\": \"2021-04-18T18:30:36.432758Z\", \"created_time_dt\": \"2021-04-18T18:30:36.432758Z\", \"duration\": \"0:02:08\", \"iteration\": \"2\", \"goal\": \"AUC_weighted_max\", \"run_name\": \"MaxAbsScaler, RandomForest\", \"run_properties\": \"copy=True\", \"primary_metric\": 0.65933384, \"best_metric\": 0.67092175}, {\"run_id\": \"AutoML_a3c272b0-8768-4d9c-b9c8-547f08a0283d_3\", \"run_number\": 9, \"metric\": null, \"status\": \"Completed\", \"run_type\": \"azureml.scriptrun\", \"training_percent\": \"100\", \"start_time\": \"2021-04-18T18:32:07.996704Z\", \"end_time\": \"2021-04-18T18:32:49.326514Z\", \"created_time\": \"2021-04-18T18:30:35.97437Z\", \"created_time_dt\": \"2021-04-18T18:30:35.97437Z\", \"duration\": \"0:02:13\", \"iteration\": \"3\", \"goal\": \"AUC_weighted_max\", \"run_name\": \"MaxAbsScaler, RandomForest\", \"run_properties\": \"copy=True\", \"primary_metric\": 0.66584895, \"best_metric\": 0.67092175}, {\"run_id\": \"AutoML_a3c272b0-8768-4d9c-b9c8-547f08a0283d_5\", \"run_number\": 10, \"metric\": null, \"status\": \"Completed\", \"run_type\": \"azureml.scriptrun\", \"training_percent\": \"100\", \"start_time\": \"2021-04-18T18:33:02.414948Z\", \"end_time\": \"2021-04-18T18:33:44.235073Z\", \"created_time\": \"2021-04-18T18:31:53.670738Z\", \"created_time_dt\": \"2021-04-18T18:31:53.670738Z\", \"duration\": \"0:01:50\", \"iteration\": \"5\", \"goal\": \"AUC_weighted_max\", \"run_name\": \"MaxAbsScaler, ExtremeRandomTrees\", \"run_properties\": \"copy=True\", \"primary_metric\": 0.64148047, \"best_metric\": 0.67092175}, {\"run_id\": \"AutoML_a3c272b0-8768-4d9c-b9c8-547f08a0283d_6\", \"run_number\": 11, \"metric\": null, \"status\": \"Completed\", \"run_type\": \"azureml.scriptrun\", \"training_percent\": \"100\", \"start_time\": \"2021-04-18T18:33:03.390705Z\", \"end_time\": \"2021-04-18T18:33:45.238195Z\", \"created_time\": \"2021-04-18T18:32:48.367047Z\", \"created_time_dt\": \"2021-04-18T18:32:48.367047Z\", \"duration\": \"0:00:56\", \"iteration\": \"6\", \"goal\": \"AUC_weighted_max\", \"run_name\": \"MaxAbsScaler, ExtremeRandomTrees\", \"run_properties\": \"copy=True\", \"primary_metric\": 0.6474249, \"best_metric\": 0.67092175}, {\"run_id\": \"AutoML_a3c272b0-8768-4d9c-b9c8-547f08a0283d_7\", \"run_number\": 12, \"metric\": null, \"status\": \"Completed\", \"run_type\": \"azureml.scriptrun\", \"training_percent\": \"100\", \"start_time\": \"2021-04-18T18:33:59.348461Z\", \"end_time\": \"2021-04-18T18:34:43.43818Z\", \"created_time\": \"2021-04-18T18:32:53.31597Z\", \"created_time_dt\": \"2021-04-18T18:32:53.31597Z\", \"duration\": \"0:01:50\", \"iteration\": \"7\", \"goal\": \"AUC_weighted_max\", \"run_name\": \"MaxAbsScaler, ExtremeRandomTrees\", \"run_properties\": \"copy=True\", \"primary_metric\": 0.65468154, \"best_metric\": 0.67092175}, {\"run_id\": \"AutoML_a3c272b0-8768-4d9c-b9c8-547f08a0283d_8\", \"run_number\": 13, \"metric\": null, \"status\": \"Completed\", \"run_type\": \"azureml.scriptrun\", \"training_percent\": \"100\", \"start_time\": \"2021-04-18T18:33:04.813306Z\", \"end_time\": \"2021-04-18T18:33:51.862255Z\", \"created_time\": \"2021-04-18T18:32:53.33168Z\", \"created_time_dt\": \"2021-04-18T18:32:53.33168Z\", \"duration\": \"0:00:58\", \"iteration\": \"8\", \"goal\": \"AUC_weighted_max\", \"run_name\": \"MaxAbsScaler, RandomForest\", \"run_properties\": \"copy=True\", \"primary_metric\": 0.63417029, \"best_metric\": 0.67092175}, {\"run_id\": \"AutoML_a3c272b0-8768-4d9c-b9c8-547f08a0283d_9\", \"run_number\": 14, \"metric\": null, \"status\": \"Completed\", \"run_type\": \"azureml.scriptrun\", \"training_percent\": \"100\", \"start_time\": \"2021-04-18T18:33:05.091507Z\", \"end_time\": \"2021-04-18T18:33:46.307126Z\", \"created_time\": \"2021-04-18T18:32:53.338404Z\", \"created_time_dt\": \"2021-04-18T18:32:53.338404Z\", \"duration\": \"0:00:52\", \"iteration\": \"9\", \"goal\": \"AUC_weighted_max\", \"run_name\": \"MaxAbsScaler, ExtremeRandomTrees\", \"run_properties\": \"copy=True\", \"primary_metric\": 0.63797599, \"best_metric\": 0.67092175}, {\"run_id\": \"AutoML_a3c272b0-8768-4d9c-b9c8-547f08a0283d_10\", \"run_number\": 15, \"metric\": null, \"status\": \"Completed\", \"run_type\": \"azureml.scriptrun\", \"training_percent\": \"100\", \"start_time\": \"2021-04-18T18:34:00.71734Z\", \"end_time\": \"2021-04-18T18:34:37.96197Z\", \"created_time\": \"2021-04-18T18:33:48.357495Z\", \"created_time_dt\": \"2021-04-18T18:33:48.357495Z\", \"duration\": \"0:00:49\", \"iteration\": \"10\", \"goal\": \"AUC_weighted_max\", \"run_name\": \"MaxAbsScaler, RandomForest\", \"run_properties\": \"copy=True\", \"primary_metric\": 0.65956282, \"best_metric\": 0.67092175}, {\"run_id\": \"AutoML_a3c272b0-8768-4d9c-b9c8-547f08a0283d_11\", \"run_number\": 16, \"metric\": null, \"status\": \"Completed\", \"run_type\": \"azureml.scriptrun\", \"training_percent\": \"100\", \"start_time\": \"2021-04-18T18:34:00.600113Z\", \"end_time\": \"2021-04-18T18:34:50.624632Z\", \"created_time\": \"2021-04-18T18:33:52.770075Z\", \"created_time_dt\": \"2021-04-18T18:33:52.770075Z\", \"duration\": \"0:00:57\", \"iteration\": \"11\", \"goal\": \"AUC_weighted_max\", \"run_name\": \"MaxAbsScaler, RandomForest\", \"run_properties\": \"copy=True\", \"primary_metric\": 0.63373821, \"best_metric\": 0.67092175}, {\"run_id\": \"AutoML_a3c272b0-8768-4d9c-b9c8-547f08a0283d_12\", \"run_number\": 17, \"metric\": null, \"status\": \"Completed\", \"run_type\": \"azureml.scriptrun\", \"training_percent\": \"100\", \"start_time\": \"2021-04-18T18:34:06.133986Z\", \"end_time\": \"2021-04-18T18:34:51.710934Z\", \"created_time\": \"2021-04-18T18:33:53.011511Z\", \"created_time_dt\": \"2021-04-18T18:33:53.011511Z\", \"duration\": \"0:00:58\", \"iteration\": \"12\", \"goal\": \"AUC_weighted_max\", \"run_name\": \"MaxAbsScaler, RandomForest\", \"run_properties\": \"copy=True\", \"primary_metric\": 0.61822601, \"best_metric\": 0.67092175}, {\"run_id\": \"AutoML_a3c272b0-8768-4d9c-b9c8-547f08a0283d_13\", \"run_number\": 18, \"metric\": null, \"status\": \"Completed\", \"run_type\": \"azureml.scriptrun\", \"training_percent\": \"100\", \"start_time\": \"2021-04-18T18:34:52.124227Z\", \"end_time\": \"2021-04-18T18:35:36.635907Z\", \"created_time\": \"2021-04-18T18:33:58.234977Z\", \"created_time_dt\": \"2021-04-18T18:33:58.234977Z\", \"duration\": \"0:01:38\", \"iteration\": \"13\", \"goal\": \"AUC_weighted_max\", \"run_name\": \"StandardScalerWrapper, XGBoostClassifier\", \"run_properties\": \"<azureml.automl.runtime.shared.model_wrappers.StandardScalerWrapper object at 0x7f42c9b3c550\", \"primary_metric\": 0.66187911, \"best_metric\": 0.67092175}, {\"run_id\": \"AutoML_a3c272b0-8768-4d9c-b9c8-547f08a0283d_14\", \"run_number\": 19, \"metric\": null, \"status\": \"Completed\", \"run_type\": \"azureml.scriptrun\", \"training_percent\": \"100\", \"start_time\": \"2021-04-18T18:34:56.347447Z\", \"end_time\": \"2021-04-18T18:35:39.9065Z\", \"created_time\": \"2021-04-18T18:34:41.163678Z\", \"created_time_dt\": \"2021-04-18T18:34:41.163678Z\", \"duration\": \"0:00:58\", \"iteration\": \"14\", \"goal\": \"AUC_weighted_max\", \"run_name\": \"MaxAbsScaler, RandomForest\", \"run_properties\": \"copy=True\", \"primary_metric\": 0.65930106, \"best_metric\": 0.67092175}, {\"run_id\": \"AutoML_a3c272b0-8768-4d9c-b9c8-547f08a0283d_15\", \"run_number\": 20, \"metric\": null, \"status\": \"Completed\", \"run_type\": \"azureml.scriptrun\", \"training_percent\": \"100\", \"start_time\": \"2021-04-18T18:35:04.764067Z\", \"end_time\": \"2021-04-18T18:36:01.440756Z\", \"created_time\": \"2021-04-18T18:34:46.611383Z\", \"created_time_dt\": \"2021-04-18T18:34:46.611383Z\", \"duration\": \"0:01:14\", \"iteration\": \"15\", \"goal\": \"AUC_weighted_max\", \"run_name\": \"StandardScalerWrapper, ExtremeRandomTrees\", \"run_properties\": \"<azureml.automl.runtime.shared.model_wrappers.StandardScalerWrapper object at 0x7f45b7e47160\", \"primary_metric\": 0.63458788, \"best_metric\": 0.67092175}, {\"run_id\": \"AutoML_a3c272b0-8768-4d9c-b9c8-547f08a0283d_16\", \"run_number\": 21, \"metric\": null, \"status\": \"Completed\", \"run_type\": \"azureml.scriptrun\", \"training_percent\": \"100\", \"start_time\": \"2021-04-18T18:35:04.795432Z\", \"end_time\": \"2021-04-18T18:35:47.646253Z\", \"created_time\": \"2021-04-18T18:34:53.581869Z\", \"created_time_dt\": \"2021-04-18T18:34:53.581869Z\", \"duration\": \"0:00:54\", \"iteration\": \"16\", \"goal\": \"AUC_weighted_max\", \"run_name\": \"MaxAbsScaler, ExtremeRandomTrees\", \"run_properties\": \"copy=True\", \"primary_metric\": 0.64774317, \"best_metric\": 0.67092175}, {\"run_id\": \"AutoML_a3c272b0-8768-4d9c-b9c8-547f08a0283d_17\", \"run_number\": 22, \"metric\": null, \"status\": \"Completed\", \"run_type\": \"azureml.scriptrun\", \"training_percent\": \"100\", \"start_time\": \"2021-04-18T18:35:52.719453Z\", \"end_time\": \"2021-04-18T18:36:36.975183Z\", \"created_time\": \"2021-04-18T18:34:59.290111Z\", \"created_time_dt\": \"2021-04-18T18:34:59.290111Z\", \"duration\": \"0:01:37\", \"iteration\": \"17\", \"goal\": \"AUC_weighted_max\", \"run_name\": \"MaxAbsScaler, ExtremeRandomTrees\", \"run_properties\": \"copy=True\", \"primary_metric\": 0.65034871, \"best_metric\": 0.67092175}, {\"run_id\": \"AutoML_a3c272b0-8768-4d9c-b9c8-547f08a0283d_18\", \"run_number\": 23, \"metric\": null, \"status\": \"Completed\", \"run_type\": \"azureml.scriptrun\", \"training_percent\": \"100\", \"start_time\": \"2021-04-18T18:35:58.139541Z\", \"end_time\": \"2021-04-18T18:36:40.31356Z\", \"created_time\": \"2021-04-18T18:35:40.152667Z\", \"created_time_dt\": \"2021-04-18T18:35:40.152667Z\", \"duration\": \"0:01:00\", \"iteration\": \"18\", \"goal\": \"AUC_weighted_max\", \"run_name\": \"MaxAbsScaler, RandomForest\", \"run_properties\": \"copy=True\", \"primary_metric\": 0.6359363, \"best_metric\": 0.67092175}, {\"run_id\": \"AutoML_a3c272b0-8768-4d9c-b9c8-547f08a0283d_19\", \"run_number\": 24, \"metric\": null, \"status\": \"Completed\", \"run_type\": \"azureml.scriptrun\", \"training_percent\": \"100\", \"start_time\": \"2021-04-18T18:36:02.699229Z\", \"end_time\": \"2021-04-18T18:36:50.69422Z\", \"created_time\": \"2021-04-18T18:35:45.140993Z\", \"created_time_dt\": \"2021-04-18T18:35:45.140993Z\", \"duration\": \"0:01:05\", \"iteration\": \"19\", \"goal\": \"AUC_weighted_max\", \"run_name\": \"StandardScalerWrapper, LogisticRegression\", \"run_properties\": \"<azureml.automl.runtime.shared.model_wrappers.StandardScalerWrapper object at 0x7f460201b2e8\", \"primary_metric\": 0.66896711, \"best_metric\": 0.67092175}, {\"run_id\": \"AutoML_a3c272b0-8768-4d9c-b9c8-547f08a0283d_20\", \"run_number\": 25, \"metric\": null, \"status\": \"Completed\", \"run_type\": \"azureml.scriptrun\", \"training_percent\": \"100\", \"start_time\": \"2021-04-18T18:36:14.676998Z\", \"end_time\": \"2021-04-18T18:37:02.733262Z\", \"created_time\": \"2021-04-18T18:35:50.514281Z\", \"created_time_dt\": \"2021-04-18T18:35:50.514281Z\", \"duration\": \"0:01:12\", \"iteration\": \"20\", \"goal\": \"AUC_weighted_max\", \"run_name\": \"MaxAbsScaler, LightGBM\", \"run_properties\": \"copy=True\", \"primary_metric\": 0.65424997, \"best_metric\": 0.67092175}, {\"run_id\": \"AutoML_a3c272b0-8768-4d9c-b9c8-547f08a0283d_21\", \"run_number\": 26, \"metric\": null, \"status\": \"Completed\", \"run_type\": \"azureml.scriptrun\", \"training_percent\": \"100\", \"start_time\": \"2021-04-18T18:36:51.874883Z\", \"end_time\": \"2021-04-18T18:37:34.656593Z\", \"created_time\": \"2021-04-18T18:36:04.70629Z\", \"created_time_dt\": \"2021-04-18T18:36:04.70629Z\", \"duration\": \"0:01:29\", \"iteration\": \"21\", \"goal\": \"AUC_weighted_max\", \"run_name\": \"StandardScalerWrapper, XGBoostClassifier\", \"run_properties\": \"<azureml.automl.runtime.shared.model_wrappers.StandardScalerWrapper object at 0x7f0521aa3898\", \"primary_metric\": 0.66881593, \"best_metric\": 0.67092175}, {\"run_id\": \"AutoML_a3c272b0-8768-4d9c-b9c8-547f08a0283d_22\", \"run_number\": 27, \"metric\": null, \"status\": \"Completed\", \"run_type\": \"azureml.scriptrun\", \"training_percent\": \"100\", \"start_time\": \"2021-04-18T18:36:54.735255Z\", \"end_time\": \"2021-04-18T18:37:43.480754Z\", \"created_time\": \"2021-04-18T18:36:40.435946Z\", \"created_time_dt\": \"2021-04-18T18:36:40.435946Z\", \"duration\": \"0:01:03\", \"iteration\": \"22\", \"goal\": \"AUC_weighted_max\", \"run_name\": \"StandardScalerWrapper, XGBoostClassifier\", \"run_properties\": \"<azureml.automl.runtime.shared.model_wrappers.StandardScalerWrapper object at 0x7f893d2d99b0\", \"primary_metric\": 0.66770493, \"best_metric\": 0.67092175}, {\"run_id\": \"AutoML_a3c272b0-8768-4d9c-b9c8-547f08a0283d_23\", \"run_number\": 28, \"metric\": null, \"status\": \"Completed\", \"run_type\": \"azureml.scriptrun\", \"training_percent\": \"100\", \"start_time\": \"2021-04-18T18:37:06.792922Z\", \"end_time\": \"2021-04-18T18:38:01.868644Z\", \"created_time\": \"2021-04-18T18:36:45.507391Z\", \"created_time_dt\": \"2021-04-18T18:36:45.507391Z\", \"duration\": \"0:01:16\", \"iteration\": \"23\", \"goal\": \"AUC_weighted_max\", \"run_name\": \"MaxAbsScaler, LightGBM\", \"run_properties\": \"copy=True\", \"primary_metric\": 0.6695694, \"best_metric\": 0.67092175}, {\"run_id\": \"AutoML_a3c272b0-8768-4d9c-b9c8-547f08a0283d_24\", \"run_number\": 29, \"metric\": null, \"status\": \"Completed\", \"run_type\": \"azureml.scriptrun\", \"training_percent\": \"100\", \"start_time\": \"2021-04-18T18:37:18.550223Z\", \"end_time\": \"2021-04-18T18:38:08.707591Z\", \"created_time\": \"2021-04-18T18:36:52.889101Z\", \"created_time_dt\": \"2021-04-18T18:36:52.889101Z\", \"duration\": \"0:01:15\", \"iteration\": \"24\", \"goal\": \"AUC_weighted_max\", \"run_name\": \"StandardScalerWrapper, XGBoostClassifier\", \"run_properties\": \"<azureml.automl.runtime.shared.model_wrappers.StandardScalerWrapper object at 0x7f0e9de875c0\", \"primary_metric\": 0.65536158, \"best_metric\": 0.67092175}, {\"run_id\": \"AutoML_a3c272b0-8768-4d9c-b9c8-547f08a0283d_25\", \"run_number\": 30, \"metric\": null, \"status\": \"Completed\", \"run_type\": \"azureml.scriptrun\", \"training_percent\": \"100\", \"start_time\": \"2021-04-18T18:37:50.546744Z\", \"end_time\": \"2021-04-18T18:38:33.639912Z\", \"created_time\": \"2021-04-18T18:37:05.816359Z\", \"created_time_dt\": \"2021-04-18T18:37:05.816359Z\", \"duration\": \"0:01:27\", \"iteration\": \"25\", \"goal\": \"AUC_weighted_max\", \"run_name\": \"StandardScalerWrapper, XGBoostClassifier\", \"run_properties\": \"<azureml.automl.runtime.shared.model_wrappers.StandardScalerWrapper object at 0x7f539b1c17b8\", \"primary_metric\": 0.65517106, \"best_metric\": 0.67092175}, {\"run_id\": \"AutoML_a3c272b0-8768-4d9c-b9c8-547f08a0283d_26\", \"run_number\": 31, \"metric\": null, \"status\": \"Completed\", \"run_type\": \"azureml.scriptrun\", \"training_percent\": \"100\", \"start_time\": \"2021-04-18T18:37:58.513187Z\", \"end_time\": \"2021-04-18T18:38:38.893657Z\", \"created_time\": \"2021-04-18T18:37:36.765438Z\", \"created_time_dt\": \"2021-04-18T18:37:36.765438Z\", \"duration\": \"0:01:02\", \"iteration\": \"26\", \"goal\": \"AUC_weighted_max\", \"run_name\": \"MaxAbsScaler, LogisticRegression\", \"run_properties\": \"copy=True\", \"primary_metric\": 0.66896302, \"best_metric\": 0.67092175}, {\"run_id\": \"AutoML_a3c272b0-8768-4d9c-b9c8-547f08a0283d_27\", \"run_number\": 32, \"metric\": null, \"status\": \"Completed\", \"run_type\": \"azureml.scriptrun\", \"training_percent\": \"100\", \"start_time\": \"2021-04-18T18:38:16.204676Z\", \"end_time\": \"2021-04-18T18:39:08.902799Z\", \"created_time\": \"2021-04-18T18:37:46.084864Z\", \"created_time_dt\": \"2021-04-18T18:37:46.084864Z\", \"duration\": \"0:01:22\", \"iteration\": \"27\", \"goal\": \"AUC_weighted_max\", \"run_name\": \"StandardScalerWrapper, XGBoostClassifier\", \"run_properties\": \"<azureml.automl.runtime.shared.model_wrappers.StandardScalerWrapper object at 0x7fc55e47d4e0\", \"primary_metric\": 0.637719, \"best_metric\": 0.67092175}, {\"run_id\": \"AutoML_a3c272b0-8768-4d9c-b9c8-547f08a0283d_28\", \"run_number\": 33, \"metric\": null, \"status\": \"Completed\", \"run_type\": \"azureml.scriptrun\", \"training_percent\": \"100\", \"start_time\": \"2021-04-18T18:38:21.467547Z\", \"end_time\": \"2021-04-18T18:39:04.420358Z\", \"created_time\": \"2021-04-18T18:38:03.472749Z\", \"created_time_dt\": \"2021-04-18T18:38:03.472749Z\", \"duration\": \"0:01:00\", \"iteration\": \"28\", \"goal\": \"AUC_weighted_max\", \"run_name\": \"MaxAbsScaler, LogisticRegression\", \"run_properties\": \"copy=True\", \"primary_metric\": 0.6689569, \"best_metric\": 0.67092175}, {\"run_id\": \"AutoML_a3c272b0-8768-4d9c-b9c8-547f08a0283d_29\", \"run_number\": 34, \"metric\": null, \"status\": \"Completed\", \"run_type\": \"azureml.scriptrun\", \"training_percent\": \"100\", \"start_time\": \"2021-04-18T18:38:45.64385Z\", \"end_time\": \"2021-04-18T18:39:28.992959Z\", \"created_time\": \"2021-04-18T18:38:10.81829Z\", \"created_time_dt\": \"2021-04-18T18:38:10.81829Z\", \"duration\": \"0:01:18\", \"iteration\": \"29\", \"goal\": \"AUC_weighted_max\", \"run_name\": \"SparseNormalizer, XGBoostClassifier\", \"run_properties\": \"<azureml.automl.runtime.shared.model_wrappers.SparseNormalizer object at 0x7f98169e6dd8\", \"primary_metric\": 0.66162942, \"best_metric\": 0.67092175}, {\"run_id\": \"AutoML_a3c272b0-8768-4d9c-b9c8-547f08a0283d_30\", \"run_number\": 35, \"metric\": null, \"status\": \"Completed\", \"run_type\": \"azureml.scriptrun\", \"training_percent\": \"100\", \"start_time\": \"2021-04-18T18:38:56.376742Z\", \"end_time\": \"2021-04-18T18:39:49.251449Z\", \"created_time\": \"2021-04-18T18:38:36.283153Z\", \"created_time_dt\": \"2021-04-18T18:38:36.283153Z\", \"duration\": \"0:01:12\", \"iteration\": \"30\", \"goal\": \"AUC_weighted_max\", \"run_name\": \"TruncatedSVDWrapper, XGBoostClassifier\", \"run_properties\": \"n_components=0.6036842105263158, random_state=None\", \"primary_metric\": 0.64209023, \"best_metric\": 0.67092175}, {\"run_id\": \"AutoML_a3c272b0-8768-4d9c-b9c8-547f08a0283d_31\", \"run_number\": 36, \"metric\": null, \"status\": \"Completed\", \"run_type\": \"azureml.scriptrun\", \"training_percent\": \"100\", \"start_time\": \"2021-04-18T18:39:20.752279Z\", \"end_time\": \"2021-04-18T18:40:02.390512Z\", \"created_time\": \"2021-04-18T18:38:40.668389Z\", \"created_time_dt\": \"2021-04-18T18:38:40.668389Z\", \"duration\": \"0:01:21\", \"iteration\": \"31\", \"goal\": \"AUC_weighted_max\", \"run_name\": \"TruncatedSVDWrapper, ExtremeRandomTrees\", \"run_properties\": \"n_components=0.7026315789473684, random_state=None\", \"primary_metric\": 0.65802822, \"best_metric\": 0.67092175}, {\"run_id\": \"AutoML_a3c272b0-8768-4d9c-b9c8-547f08a0283d_32\", \"run_number\": 37, \"metric\": null, \"status\": \"Completed\", \"run_type\": \"azureml.scriptrun\", \"training_percent\": \"100\", \"start_time\": \"2021-04-18T18:39:26.420556Z\", \"end_time\": \"2021-04-18T18:40:08.546951Z\", \"created_time\": \"2021-04-18T18:39:06.715799Z\", \"created_time_dt\": \"2021-04-18T18:39:06.715799Z\", \"duration\": \"0:01:01\", \"iteration\": \"32\", \"goal\": \"AUC_weighted_max\", \"run_name\": \"SparseNormalizer, LightGBM\", \"run_properties\": \"<azureml.automl.runtime.shared.model_wrappers.SparseNormalizer object at 0x7f7d9d25e860\", \"primary_metric\": 0.66095165, \"best_metric\": 0.67092175}, {\"run_id\": \"AutoML_a3c272b0-8768-4d9c-b9c8-547f08a0283d_33\", \"run_number\": 38, \"metric\": null, \"status\": \"Completed\", \"run_type\": \"azureml.scriptrun\", \"training_percent\": \"100\", \"start_time\": \"2021-04-18T18:39:41.367148Z\", \"end_time\": \"2021-04-18T18:40:20.396353Z\", \"created_time\": \"2021-04-18T18:39:10.899442Z\", \"created_time_dt\": \"2021-04-18T18:39:10.899442Z\", \"duration\": \"0:01:09\", \"iteration\": \"33\", \"goal\": \"AUC_weighted_max\", \"run_name\": \"MaxAbsScaler, LogisticRegression\", \"run_properties\": \"copy=True\", \"primary_metric\": 0.66894133, \"best_metric\": 0.67092175}, {\"run_id\": \"AutoML_a3c272b0-8768-4d9c-b9c8-547f08a0283d_34\", \"run_number\": 39, \"metric\": null, \"status\": \"Canceled\", \"run_type\": \"azureml.scriptrun\", \"training_percent\": \"100\", \"start_time\": \"2021-04-18T18:40:06.358717Z\", \"end_time\": \"2021-04-18T18:40:26.991559Z\", \"created_time\": \"2021-04-18T18:39:30.739029Z\", \"created_time_dt\": \"2021-04-18T18:39:30.739029Z\", \"duration\": \"0:00:56\", \"iteration\": \"34\", \"goal\": null, \"run_name\": \"StandardScalerWrapper, LogisticRegression\", \"run_properties\": null, \"primary_metric\": 0.66896277, \"best_metric\": 0.67092175}, {\"run_id\": \"AutoML_a3c272b0-8768-4d9c-b9c8-547f08a0283d_35\", \"run_number\": 40, \"metric\": null, \"status\": \"Canceled\", \"run_type\": \"azureml.scriptrun\", \"training_percent\": \"100\", \"start_time\": \"2021-04-18T18:40:13.60966Z\", \"end_time\": \"2021-04-18T18:40:27.186748Z\", \"created_time\": \"2021-04-18T18:39:52.459164Z\", \"created_time_dt\": \"2021-04-18T18:39:52.459164Z\", \"duration\": \"0:00:34\", \"iteration\": \"35\", \"goal\": null, \"run_name\": \"Canceled\", \"run_properties\": null}, {\"run_id\": \"AutoML_a3c272b0-8768-4d9c-b9c8-547f08a0283d_36\", \"run_number\": 41, \"metric\": null, \"status\": \"Canceled\", \"run_type\": \"azureml.scriptrun\", \"training_percent\": \"100\", \"start_time\": \"2021-04-18T18:40:04.200543Z\", \"end_time\": \"2021-04-18T18:40:26.865491Z\", \"created_time\": \"2021-04-18T18:40:04.200543Z\", \"created_time_dt\": \"2021-04-18T18:40:04.200543Z\", \"duration\": \"0:00:22\", \"iteration\": \"36\", \"goal\": null, \"run_name\": \"Canceled\", \"run_properties\": null}, {\"run_id\": \"AutoML_a3c272b0-8768-4d9c-b9c8-547f08a0283d_37\", \"run_number\": 42, \"metric\": null, \"status\": \"Canceled\", \"run_type\": \"azureml.scriptrun\", \"training_percent\": \"100\", \"start_time\": \"2021-04-18T18:40:10.436587Z\", \"end_time\": \"2021-04-18T18:40:27.530999Z\", \"created_time\": \"2021-04-18T18:40:10.436587Z\", \"created_time_dt\": \"2021-04-18T18:40:10.436587Z\", \"duration\": \"0:00:17\", \"iteration\": \"37\", \"goal\": null, \"run_name\": \"Canceled\", \"run_properties\": null}, {\"run_id\": \"AutoML_a3c272b0-8768-4d9c-b9c8-547f08a0283d_38\", \"run_number\": 43, \"metric\": null, \"status\": \"Completed\", \"run_type\": \"azureml.scriptrun\", \"training_percent\": \"100\", \"start_time\": \"2021-04-18T18:40:37.374994Z\", \"end_time\": \"2021-04-18T18:41:40.361577Z\", \"created_time\": \"2021-04-18T18:40:28.916614Z\", \"created_time_dt\": \"2021-04-18T18:40:28.916614Z\", \"duration\": \"0:01:11\", \"iteration\": \"38\", \"goal\": \"AUC_weighted_max\", \"run_name\": \"VotingEnsemble\", \"run_properties\": \"classification_labels=None,\\n                              estimators=[('1',\\n                                           Pipeline(memory=None,\\n                                                    steps=[('maxabsscaler',\\n                                                            MaxAbsScaler(copy=True\", \"primary_metric\": 0.67267902, \"best_metric\": 0.67267902}, {\"run_id\": \"AutoML_a3c272b0-8768-4d9c-b9c8-547f08a0283d_39\", \"run_number\": 44, \"metric\": null, \"status\": \"Completed\", \"run_type\": \"azureml.scriptrun\", \"training_percent\": \"100\", \"start_time\": \"2021-04-18T18:40:43.848878Z\", \"end_time\": \"2021-04-18T18:41:58.567286Z\", \"created_time\": \"2021-04-18T18:40:28.920611Z\", \"created_time_dt\": \"2021-04-18T18:40:28.920611Z\", \"duration\": \"0:01:29\", \"iteration\": \"39\", \"goal\": \"AUC_weighted_max\", \"run_name\": \"StackEnsemble\", \"run_properties\": \"base_learners=[('1',\\n                                        Pipeline(memory=None,\\n                                                 steps=[('maxabsscaler',\\n                                                         MaxAbsScaler(copy=True\", \"primary_metric\": 0.67167088, \"best_metric\": 0.67267902}], \"children_metrics\": {\"categories\": [0], \"series\": {\"norm_macro_recall\": [{\"categories\": [\"0\", \"1\", \"2\", \"3\", \"4\", \"5\", \"6\", \"7\", \"8\", \"9\", \"10\", \"11\", \"12\", \"13\", \"14\", \"15\", \"16\", \"17\", \"18\", \"19\", \"20\", \"21\", \"22\", \"23\", \"24\", \"25\", \"26\", \"27\", \"28\", \"29\", \"30\", \"31\", \"32\", \"33\", \"34\", \"38\", \"39\"], \"mode\": \"markers\", \"name\": \"norm_macro_recall\", \"stepped\": false, \"type\": \"scatter\", \"data\": [0.23813337074882135, 0.24012958710346677, 0.22713186093794535, 0.23196033213937062, 0.19648606208977837, 0.20662306240558515, 0.2076431389493698, 0.22274288112241836, 0.17139272909718706, 0.20166453847470445, 0.22197327497046526, 0.18380360524361028, 0.16424290971747801, 0.2273509036431678, 0.22191035756891786, 0.18806457926453346, 0.21759750718897997, 0.21772931738775236, 0.18703430939871035, 0.24431097877849606, 0.21573626447787708, 0.23868920660350268, 0.23541661265033031, 0.23730330765236474, 0.22607065961214357, 0.2247869006424854, 0.24606179038816456, 0.19531779986840903, 0.24562883265290325, 0.2214672065116181, 0.20452646353877668, 0.22065120316969722, 0.22827411261342334, 0.24459891428094327, 0.2438811844880051, 0.24619872826212053, 0.24403780601831104]}, {\"categories\": [\"0\", \"1\", \"2\", \"3\", \"4\", \"5\", \"6\", \"7\", \"8\", \"9\", \"10\", \"11\", \"12\", \"13\", \"14\", \"15\", \"16\", \"17\", \"18\", \"19\", \"20\", \"21\", \"22\", \"23\", \"24\", \"25\", \"26\", \"27\", \"28\", \"29\", \"30\", \"31\", \"32\", \"33\", \"34\", \"38\", \"39\"], \"mode\": \"lines\", \"name\": \"norm_macro_recall_max\", \"stepped\": true, \"type\": \"scatter\", \"data\": [0.23813337074882135, 0.24012958710346677, 0.24012958710346677, 0.24012958710346677, 0.24012958710346677, 0.24012958710346677, 0.24012958710346677, 0.24012958710346677, 0.24012958710346677, 0.24012958710346677, 0.24012958710346677, 0.24012958710346677, 0.24012958710346677, 0.24012958710346677, 0.24012958710346677, 0.24012958710346677, 0.24012958710346677, 0.24012958710346677, 0.24012958710346677, 0.24431097877849606, 0.24431097877849606, 0.24431097877849606, 0.24431097877849606, 0.24431097877849606, 0.24431097877849606, 0.24431097877849606, 0.24606179038816456, 0.24606179038816456, 0.24606179038816456, 0.24606179038816456, 0.24606179038816456, 0.24606179038816456, 0.24606179038816456, 0.24606179038816456, 0.24606179038816456, 0.24619872826212053, 0.24619872826212053]}], \"recall_score_macro\": [{\"categories\": [\"0\", \"1\", \"2\", \"3\", \"4\", \"5\", \"6\", \"7\", \"8\", \"9\", \"10\", \"11\", \"12\", \"13\", \"14\", \"15\", \"16\", \"17\", \"18\", \"19\", \"20\", \"21\", \"22\", \"23\", \"24\", \"25\", \"26\", \"27\", \"28\", \"29\", \"30\", \"31\", \"32\", \"33\", \"34\", \"38\", \"39\"], \"mode\": \"markers\", \"name\": \"recall_score_macro\", \"stepped\": false, \"type\": \"scatter\", \"data\": [0.6190666853744107, 0.6200647935517334, 0.6135659304689727, 0.6159801660696853, 0.5982430310448892, 0.6033115312027926, 0.6038215694746849, 0.6113714405612092, 0.5856963645485935, 0.6008322692373522, 0.6109866374852326, 0.5919018026218051, 0.582121454858739, 0.6136754518215839, 0.6109551787844589, 0.5940322896322667, 0.60879875359449, 0.6088646586938762, 0.5935171546993552, 0.622155489389248, 0.6078681322389385, 0.6193446033017513, 0.6177083063251652, 0.6186516538261824, 0.6130353298060718, 0.6123934503212427, 0.6230308951940823, 0.5976588999342045, 0.6228144163264516, 0.610733603255809, 0.6022632317693883, 0.6103256015848486, 0.6141370563067117, 0.6222994571404716, 0.6219405922440026, 0.6230993641310603, 0.6220189030091555]}, {\"categories\": [\"0\", \"1\", \"2\", \"3\", \"4\", \"5\", \"6\", \"7\", \"8\", \"9\", \"10\", \"11\", \"12\", \"13\", \"14\", \"15\", \"16\", \"17\", \"18\", \"19\", \"20\", \"21\", \"22\", \"23\", \"24\", \"25\", \"26\", \"27\", \"28\", \"29\", \"30\", \"31\", \"32\", \"33\", \"34\", \"38\", \"39\"], \"mode\": \"lines\", \"name\": \"recall_score_macro_max\", \"stepped\": true, \"type\": \"scatter\", \"data\": [0.6190666853744107, 0.6200647935517334, 0.6200647935517334, 0.6200647935517334, 0.6200647935517334, 0.6200647935517334, 0.6200647935517334, 0.6200647935517334, 0.6200647935517334, 0.6200647935517334, 0.6200647935517334, 0.6200647935517334, 0.6200647935517334, 0.6200647935517334, 0.6200647935517334, 0.6200647935517334, 0.6200647935517334, 0.6200647935517334, 0.6200647935517334, 0.622155489389248, 0.622155489389248, 0.622155489389248, 0.622155489389248, 0.622155489389248, 0.622155489389248, 0.622155489389248, 0.6230308951940823, 0.6230308951940823, 0.6230308951940823, 0.6230308951940823, 0.6230308951940823, 0.6230308951940823, 0.6230308951940823, 0.6230308951940823, 0.6230308951940823, 0.6230993641310603, 0.6230993641310603]}], \"precision_score_macro\": [{\"categories\": [\"0\", \"1\", \"2\", \"3\", \"4\", \"5\", \"6\", \"7\", \"8\", \"9\", \"10\", \"11\", \"12\", \"13\", \"14\", \"15\", \"16\", \"17\", \"18\", \"19\", \"20\", \"21\", \"22\", \"23\", \"24\", \"25\", \"26\", \"27\", \"28\", \"29\", \"30\", \"31\", \"32\", \"33\", \"34\", \"38\", \"39\"], \"mode\": \"markers\", \"name\": \"precision_score_macro\", \"stepped\": false, \"type\": \"scatter\", \"data\": [0.6193360223342916, 0.6205178850008368, 0.6135774326355818, 0.6161596473227275, 0.5982450298686953, 0.6037332417545802, 0.6041105561953963, 0.6116663561183735, 0.5882609563186786, 0.602323138477278, 0.6110547973268572, 0.598758617934529, 0.5822069984126974, 0.6139157147122464, 0.6110340102949142, 0.5945138775771294, 0.6110885818691191, 0.6090036713419977, 0.5942945166602254, 0.6224862643639223, 0.6079083326404255, 0.6198251625510187, 0.6178526096815996, 0.6187027231193656, 0.6131705026349058, 0.6124698875249193, 0.6231511665150731, 0.5976952955489672, 0.622944643853901, 0.6108796025714746, 0.6022844394278396, 0.6103258525068848, 0.6141383023529463, 0.6226269559371115, 0.6222544980273342, 0.6232668633266112, 0.6222161267174671]}, {\"categories\": [\"0\", \"1\", \"2\", \"3\", \"4\", \"5\", \"6\", \"7\", \"8\", \"9\", \"10\", \"11\", \"12\", \"13\", \"14\", \"15\", \"16\", \"17\", \"18\", \"19\", \"20\", \"21\", \"22\", \"23\", \"24\", \"25\", \"26\", \"27\", \"28\", \"29\", \"30\", \"31\", \"32\", \"33\", \"34\", \"38\", \"39\"], \"mode\": \"lines\", \"name\": \"precision_score_macro_max\", \"stepped\": true, \"type\": \"scatter\", \"data\": [0.6193360223342916, 0.6205178850008368, 0.6205178850008368, 0.6205178850008368, 0.6205178850008368, 0.6205178850008368, 0.6205178850008368, 0.6205178850008368, 0.6205178850008368, 0.6205178850008368, 0.6205178850008368, 0.6205178850008368, 0.6205178850008368, 0.6205178850008368, 0.6205178850008368, 0.6205178850008368, 0.6205178850008368, 0.6205178850008368, 0.6205178850008368, 0.6224862643639223, 0.6224862643639223, 0.6224862643639223, 0.6224862643639223, 0.6224862643639223, 0.6224862643639223, 0.6224862643639223, 0.6231511665150731, 0.6231511665150731, 0.6231511665150731, 0.6231511665150731, 0.6231511665150731, 0.6231511665150731, 0.6231511665150731, 0.6231511665150731, 0.6231511665150731, 0.6232668633266112, 0.6232668633266112]}], \"balanced_accuracy\": [{\"categories\": [\"0\", \"1\", \"2\", \"3\", \"4\", \"5\", \"6\", \"7\", \"8\", \"9\", \"10\", \"11\", \"12\", \"13\", \"14\", \"15\", \"16\", \"17\", \"18\", \"19\", \"20\", \"21\", \"22\", \"23\", \"24\", \"25\", \"26\", \"27\", \"28\", \"29\", \"30\", \"31\", \"32\", \"33\", \"34\", \"38\", \"39\"], \"mode\": \"markers\", \"name\": \"balanced_accuracy\", \"stepped\": false, \"type\": \"scatter\", \"data\": [0.6190666853744107, 0.6200647935517334, 0.6135659304689727, 0.6159801660696853, 0.5982430310448892, 0.6033115312027926, 0.6038215694746849, 0.6113714405612092, 0.5856963645485935, 0.6008322692373522, 0.6109866374852326, 0.5919018026218051, 0.582121454858739, 0.6136754518215839, 0.6109551787844589, 0.5940322896322667, 0.60879875359449, 0.6088646586938762, 0.5935171546993552, 0.622155489389248, 0.6078681322389385, 0.6193446033017513, 0.6177083063251652, 0.6186516538261824, 0.6130353298060718, 0.6123934503212427, 0.6230308951940823, 0.5976588999342045, 0.6228144163264516, 0.610733603255809, 0.6022632317693883, 0.6103256015848486, 0.6141370563067117, 0.6222994571404716, 0.6219405922440026, 0.6230993641310603, 0.6220189030091555]}, {\"categories\": [\"0\", \"1\", \"2\", \"3\", \"4\", \"5\", \"6\", \"7\", \"8\", \"9\", \"10\", \"11\", \"12\", \"13\", \"14\", \"15\", \"16\", \"17\", \"18\", \"19\", \"20\", \"21\", \"22\", \"23\", \"24\", \"25\", \"26\", \"27\", \"28\", \"29\", \"30\", \"31\", \"32\", \"33\", \"34\", \"38\", \"39\"], \"mode\": \"lines\", \"name\": \"balanced_accuracy_max\", \"stepped\": true, \"type\": \"scatter\", \"data\": [0.6190666853744107, 0.6200647935517334, 0.6200647935517334, 0.6200647935517334, 0.6200647935517334, 0.6200647935517334, 0.6200647935517334, 0.6200647935517334, 0.6200647935517334, 0.6200647935517334, 0.6200647935517334, 0.6200647935517334, 0.6200647935517334, 0.6200647935517334, 0.6200647935517334, 0.6200647935517334, 0.6200647935517334, 0.6200647935517334, 0.6200647935517334, 0.622155489389248, 0.622155489389248, 0.622155489389248, 0.622155489389248, 0.622155489389248, 0.622155489389248, 0.622155489389248, 0.6230308951940823, 0.6230308951940823, 0.6230308951940823, 0.6230308951940823, 0.6230308951940823, 0.6230308951940823, 0.6230308951940823, 0.6230308951940823, 0.6230308951940823, 0.6230993641310603, 0.6230993641310603]}], \"precision_score_weighted\": [{\"categories\": [\"0\", \"1\", \"2\", \"3\", \"4\", \"5\", \"6\", \"7\", \"8\", \"9\", \"10\", \"11\", \"12\", \"13\", \"14\", \"15\", \"16\", \"17\", \"18\", \"19\", \"20\", \"21\", \"22\", \"23\", \"24\", \"25\", \"26\", \"27\", \"28\", \"29\", \"30\", \"31\", \"32\", \"33\", \"34\", \"38\", \"39\"], \"mode\": \"markers\", \"name\": \"precision_score_weighted\", \"stepped\": false, \"type\": \"scatter\", \"data\": [0.6193298377113975, 0.6205095983910887, 0.6135795867992369, 0.6161548108335235, 0.5982452156393446, 0.6037259033306666, 0.6041045972376465, 0.6116600871077407, 0.5882800922071783, 0.6023087887134546, 0.611058911020801, 0.5987275590750084, 0.5822045018484602, 0.6139100651473679, 0.611031137397697, 0.5945063773876338, 0.6110698346293905, 0.6089996577428488, 0.594284798398898, 0.6224792294383642, 0.6079065288344796, 0.6198166330407182, 0.6178483131833662, 0.6187004555403234, 0.6131664661722479, 0.6124670468814906, 0.6231472059973253, 0.5976937331580465, 0.6229404967664567, 0.610875429097809, 0.6022833797481553, 0.6103268611871435, 0.6141395407322386, 0.6226199551756352, 0.6222476711988398, 0.6232620535004791, 0.6222108702387371]}, {\"categories\": [\"0\", \"1\", \"2\", \"3\", \"4\", \"5\", \"6\", \"7\", \"8\", \"9\", \"10\", \"11\", \"12\", \"13\", \"14\", \"15\", \"16\", \"17\", \"18\", \"19\", \"20\", \"21\", \"22\", \"23\", \"24\", \"25\", \"26\", \"27\", \"28\", \"29\", \"30\", \"31\", \"32\", \"33\", \"34\", \"38\", \"39\"], \"mode\": \"lines\", \"name\": \"precision_score_weighted_max\", \"stepped\": true, \"type\": \"scatter\", \"data\": [0.6193298377113975, 0.6205095983910887, 0.6205095983910887, 0.6205095983910887, 0.6205095983910887, 0.6205095983910887, 0.6205095983910887, 0.6205095983910887, 0.6205095983910887, 0.6205095983910887, 0.6205095983910887, 0.6205095983910887, 0.6205095983910887, 0.6205095983910887, 0.6205095983910887, 0.6205095983910887, 0.6205095983910887, 0.6205095983910887, 0.6205095983910887, 0.6224792294383642, 0.6224792294383642, 0.6224792294383642, 0.6224792294383642, 0.6224792294383642, 0.6224792294383642, 0.6224792294383642, 0.6231472059973253, 0.6231472059973253, 0.6231472059973253, 0.6231472059973253, 0.6231472059973253, 0.6231472059973253, 0.6231472059973253, 0.6231472059973253, 0.6231472059973253, 0.6232620535004791, 0.6232620535004791]}], \"average_precision_score_macro\": [{\"categories\": [\"0\", \"1\", \"2\", \"3\", \"4\", \"5\", \"6\", \"7\", \"8\", \"9\", \"10\", \"11\", \"12\", \"13\", \"14\", \"15\", \"16\", \"17\", \"18\", \"19\", \"20\", \"21\", \"22\", \"23\", \"24\", \"25\", \"26\", \"27\", \"28\", \"29\", \"30\", \"31\", \"32\", \"33\", \"34\", \"38\", \"39\"], \"mode\": \"markers\", \"name\": \"average_precision_score_macro\", \"stepped\": false, \"type\": \"scatter\", \"data\": [0.6573993623762107, 0.6618301067962229, 0.6490822217720735, 0.6568557633907796, 0.624882421698105, 0.6256117833093189, 0.6349069540882695, 0.6441568675529283, 0.6272056010430307, 0.6276202018522099, 0.6483754888173575, 0.620963989886924, 0.6074484867073742, 0.653620564927533, 0.6495142741459045, 0.6212945144041968, 0.632121017054213, 0.6399880592706768, 0.6234157166350784, 0.6590865500514912, 0.6430060468287144, 0.6591197614431891, 0.6591436194018715, 0.6597350673272463, 0.6440146574688737, 0.6437125211676444, 0.6591020672739922, 0.626975509272375, 0.6590877815820868, 0.6544872601221305, 0.633537143918053, 0.6463917763342514, 0.6522199054199026, 0.6590778626662996, 0.6591420957127354, 0.6638081027255343, 0.6620593418342764]}, {\"categories\": [\"0\", \"1\", \"2\", \"3\", \"4\", \"5\", \"6\", \"7\", \"8\", \"9\", \"10\", \"11\", \"12\", \"13\", \"14\", \"15\", \"16\", \"17\", \"18\", \"19\", \"20\", \"21\", \"22\", \"23\", \"24\", \"25\", \"26\", \"27\", \"28\", \"29\", \"30\", \"31\", \"32\", \"33\", \"34\", \"38\", \"39\"], \"mode\": \"lines\", \"name\": \"average_precision_score_macro_max\", \"stepped\": true, \"type\": \"scatter\", \"data\": [0.6573993623762107, 0.6618301067962229, 0.6618301067962229, 0.6618301067962229, 0.6618301067962229, 0.6618301067962229, 0.6618301067962229, 0.6618301067962229, 0.6618301067962229, 0.6618301067962229, 0.6618301067962229, 0.6618301067962229, 0.6618301067962229, 0.6618301067962229, 0.6618301067962229, 0.6618301067962229, 0.6618301067962229, 0.6618301067962229, 0.6618301067962229, 0.6618301067962229, 0.6618301067962229, 0.6618301067962229, 0.6618301067962229, 0.6618301067962229, 0.6618301067962229, 0.6618301067962229, 0.6618301067962229, 0.6618301067962229, 0.6618301067962229, 0.6618301067962229, 0.6618301067962229, 0.6618301067962229, 0.6618301067962229, 0.6618301067962229, 0.6618301067962229, 0.6638081027255343, 0.6638081027255343]}], \"average_precision_score_weighted\": [{\"categories\": [\"0\", \"1\", \"2\", \"3\", \"4\", \"5\", \"6\", \"7\", \"8\", \"9\", \"10\", \"11\", \"12\", \"13\", \"14\", \"15\", \"16\", \"17\", \"18\", \"19\", \"20\", \"21\", \"22\", \"23\", \"24\", \"25\", \"26\", \"27\", \"28\", \"29\", \"30\", \"31\", \"32\", \"33\", \"34\", \"38\", \"39\"], \"mode\": \"markers\", \"name\": \"average_precision_score_weighted\", \"stepped\": false, \"type\": \"scatter\", \"data\": [0.6573941540797192, 0.6618244940207202, 0.649082213426103, 0.6568521470049619, 0.6248849414748655, 0.6256161342807519, 0.634909684966131, 0.6441604914382082, 0.6271960626902341, 0.6276224610138509, 0.6483689632718098, 0.6209642454932459, 0.6074502304138314, 0.6536134713671296, 0.6495081076722631, 0.6212958738534419, 0.6321307346961826, 0.6399910215137877, 0.6234152125507093, 0.6590791339358167, 0.6430064103311008, 0.6591162832066104, 0.6591381410993369, 0.6597317610878402, 0.6440108597768176, 0.6437094035397105, 0.6590946701922092, 0.6269695827172849, 0.659080377346909, 0.6544825162752298, 0.6335350829837891, 0.6463956927695496, 0.6522128202605401, 0.6590704621534276, 0.6591346518883082, 0.6638034205017188, 0.6620529569405913]}, {\"categories\": [\"0\", \"1\", \"2\", \"3\", \"4\", \"5\", \"6\", \"7\", \"8\", \"9\", \"10\", \"11\", \"12\", \"13\", \"14\", \"15\", \"16\", \"17\", \"18\", \"19\", \"20\", \"21\", \"22\", \"23\", \"24\", \"25\", \"26\", \"27\", \"28\", \"29\", \"30\", \"31\", \"32\", \"33\", \"34\", \"38\", \"39\"], \"mode\": \"lines\", \"name\": \"average_precision_score_weighted_max\", \"stepped\": true, \"type\": \"scatter\", \"data\": [0.6573941540797192, 0.6618244940207202, 0.6618244940207202, 0.6618244940207202, 0.6618244940207202, 0.6618244940207202, 0.6618244940207202, 0.6618244940207202, 0.6618244940207202, 0.6618244940207202, 0.6618244940207202, 0.6618244940207202, 0.6618244940207202, 0.6618244940207202, 0.6618244940207202, 0.6618244940207202, 0.6618244940207202, 0.6618244940207202, 0.6618244940207202, 0.6618244940207202, 0.6618244940207202, 0.6618244940207202, 0.6618244940207202, 0.6618244940207202, 0.6618244940207202, 0.6618244940207202, 0.6618244940207202, 0.6618244940207202, 0.6618244940207202, 0.6618244940207202, 0.6618244940207202, 0.6618244940207202, 0.6618244940207202, 0.6618244940207202, 0.6618244940207202, 0.6638034205017188, 0.6638034205017188]}], \"f1_score_weighted\": [{\"categories\": [\"0\", \"1\", \"2\", \"3\", \"4\", \"5\", \"6\", \"7\", \"8\", \"9\", \"10\", \"11\", \"12\", \"13\", \"14\", \"15\", \"16\", \"17\", \"18\", \"19\", \"20\", \"21\", \"22\", \"23\", \"24\", \"25\", \"26\", \"27\", \"28\", \"29\", \"30\", \"31\", \"32\", \"33\", \"34\", \"38\", \"39\"], \"mode\": \"markers\", \"name\": \"f1_score_weighted\", \"stepped\": false, \"type\": \"scatter\", \"data\": [0.6188805004285979, 0.6197446830581214, 0.6135497817101961, 0.6158556348845947, 0.5982436967016153, 0.6029467945300373, 0.6035785178159677, 0.6111459360357139, 0.5825600003876739, 0.5994467458332199, 0.6109116137735073, 0.5848556655875451, 0.5820323247237468, 0.6134995571852735, 0.6109022499232598, 0.5935580078600114, 0.6068602448650301, 0.6087615931358952, 0.5927330861429271, 0.6219318212902043, 0.607843265932067, 0.6190011193729776, 0.6176124726561683, 0.6186231539893939, 0.6129407145332701, 0.6123433652702527, 0.6229577658549227, 0.5976330979383657, 0.6227342307826016, 0.6106274477584204, 0.6022512928003038, 0.6103240289186906, 0.614133679785513, 0.6220785291883554, 0.6217285616859776, 0.6229936447024583, 0.6218907362246623]}, {\"categories\": [\"0\", \"1\", \"2\", \"3\", \"4\", \"5\", \"6\", \"7\", \"8\", \"9\", \"10\", \"11\", \"12\", \"13\", \"14\", \"15\", \"16\", \"17\", \"18\", \"19\", \"20\", \"21\", \"22\", \"23\", \"24\", \"25\", \"26\", \"27\", \"28\", \"29\", \"30\", \"31\", \"32\", \"33\", \"34\", \"38\", \"39\"], \"mode\": \"lines\", \"name\": \"f1_score_weighted_max\", \"stepped\": true, \"type\": \"scatter\", \"data\": [0.6188805004285979, 0.6197446830581214, 0.6197446830581214, 0.6197446830581214, 0.6197446830581214, 0.6197446830581214, 0.6197446830581214, 0.6197446830581214, 0.6197446830581214, 0.6197446830581214, 0.6197446830581214, 0.6197446830581214, 0.6197446830581214, 0.6197446830581214, 0.6197446830581214, 0.6197446830581214, 0.6197446830581214, 0.6197446830581214, 0.6197446830581214, 0.6219318212902043, 0.6219318212902043, 0.6219318212902043, 0.6219318212902043, 0.6219318212902043, 0.6219318212902043, 0.6219318212902043, 0.6229577658549227, 0.6229577658549227, 0.6229577658549227, 0.6229577658549227, 0.6229577658549227, 0.6229577658549227, 0.6229577658549227, 0.6229577658549227, 0.6229577658549227, 0.6229936447024583, 0.6229936447024583]}], \"AUC_macro\": [{\"categories\": [\"0\", \"1\", \"2\", \"3\", \"4\", \"5\", \"6\", \"7\", \"8\", \"9\", \"10\", \"11\", \"12\", \"13\", \"14\", \"15\", \"16\", \"17\", \"18\", \"19\", \"20\", \"21\", \"22\", \"23\", \"24\", \"25\", \"26\", \"27\", \"28\", \"29\", \"30\", \"31\", \"32\", \"33\", \"34\", \"38\", \"39\"], \"mode\": \"markers\", \"name\": \"AUC_macro\", \"stepped\": false, \"type\": \"scatter\", \"data\": [0.6671913022719447, 0.6709217479963505, 0.6593338430407876, 0.6658489472076479, 0.6388989305861235, 0.6414804669277563, 0.6474249001312892, 0.6546815426313053, 0.6341702939799563, 0.6379759904052926, 0.6595628206166781, 0.6337382149793533, 0.6182260050956685, 0.661879113486162, 0.6593010610689987, 0.6345878790277216, 0.6477431674865364, 0.650348708791428, 0.6359363025301893, 0.6689671112981335, 0.654249970195388, 0.6688159275846555, 0.6677049330178819, 0.6695693960330569, 0.6553615798764221, 0.6551710598644086, 0.6689630174284305, 0.6377190018699059, 0.6689568972999853, 0.6616294184484408, 0.6420902312453316, 0.6580282190852154, 0.6609516452373263, 0.6689413281894481, 0.668962769315115, 0.6726790208902726, 0.6716708847997885]}, {\"categories\": [\"0\", \"1\", \"2\", \"3\", \"4\", \"5\", \"6\", \"7\", \"8\", \"9\", \"10\", \"11\", \"12\", \"13\", \"14\", \"15\", \"16\", \"17\", \"18\", \"19\", \"20\", \"21\", \"22\", \"23\", \"24\", \"25\", \"26\", \"27\", \"28\", \"29\", \"30\", \"31\", \"32\", \"33\", \"34\", \"38\", \"39\"], \"mode\": \"lines\", \"name\": \"AUC_macro_max\", \"stepped\": true, \"type\": \"scatter\", \"data\": [0.6671913022719447, 0.6709217479963505, 0.6709217479963505, 0.6709217479963505, 0.6709217479963505, 0.6709217479963505, 0.6709217479963505, 0.6709217479963505, 0.6709217479963505, 0.6709217479963505, 0.6709217479963505, 0.6709217479963505, 0.6709217479963505, 0.6709217479963505, 0.6709217479963505, 0.6709217479963505, 0.6709217479963505, 0.6709217479963505, 0.6709217479963505, 0.6709217479963505, 0.6709217479963505, 0.6709217479963505, 0.6709217479963505, 0.6709217479963505, 0.6709217479963505, 0.6709217479963505, 0.6709217479963505, 0.6709217479963505, 0.6709217479963505, 0.6709217479963505, 0.6709217479963505, 0.6709217479963505, 0.6709217479963505, 0.6709217479963505, 0.6709217479963505, 0.6726790208902726, 0.6726790208902726]}], \"average_precision_score_micro\": [{\"categories\": [\"0\", \"1\", \"2\", \"3\", \"4\", \"5\", \"6\", \"7\", \"8\", \"9\", \"10\", \"11\", \"12\", \"13\", \"14\", \"15\", \"16\", \"17\", \"18\", \"19\", \"20\", \"21\", \"22\", \"23\", \"24\", \"25\", \"26\", \"27\", \"28\", \"29\", \"30\", \"31\", \"32\", \"33\", \"34\", \"38\", \"39\"], \"mode\": \"markers\", \"name\": \"average_precision_score_micro\", \"stepped\": false, \"type\": \"scatter\", \"data\": [0.6572916573683756, 0.6614257246862142, 0.6473385646378569, 0.6567342350804088, 0.6232432811336917, 0.6232637268583363, 0.6320693016451451, 0.6392313409720881, 0.6258668494896164, 0.6227608542502652, 0.6494404262346422, 0.6155202596957688, 0.6059531186323619, 0.6539465103129223, 0.649248574108642, 0.6189591120720938, 0.6251502142877067, 0.6391288051956473, 0.6207872603594224, 0.6592967457427413, 0.6423270940296408, 0.658490465632413, 0.658944938719195, 0.6592813476964994, 0.6436697884222333, 0.6432616272069481, 0.6591808375617381, 0.6272380339160247, 0.6591793450885004, 0.6543237892807399, 0.6329259309360064, 0.6466593452929607, 0.652527717461813, 0.6592799822036527, 0.6593632798936336, 0.6635527532321184, 0.6617643891024482]}, {\"categories\": [\"0\", \"1\", \"2\", \"3\", \"4\", \"5\", \"6\", \"7\", \"8\", \"9\", \"10\", \"11\", \"12\", \"13\", \"14\", \"15\", \"16\", \"17\", \"18\", \"19\", \"20\", \"21\", \"22\", \"23\", \"24\", \"25\", \"26\", \"27\", \"28\", \"29\", \"30\", \"31\", \"32\", \"33\", \"34\", \"38\", \"39\"], \"mode\": \"lines\", \"name\": \"average_precision_score_micro_max\", \"stepped\": true, \"type\": \"scatter\", \"data\": [0.6572916573683756, 0.6614257246862142, 0.6614257246862142, 0.6614257246862142, 0.6614257246862142, 0.6614257246862142, 0.6614257246862142, 0.6614257246862142, 0.6614257246862142, 0.6614257246862142, 0.6614257246862142, 0.6614257246862142, 0.6614257246862142, 0.6614257246862142, 0.6614257246862142, 0.6614257246862142, 0.6614257246862142, 0.6614257246862142, 0.6614257246862142, 0.6614257246862142, 0.6614257246862142, 0.6614257246862142, 0.6614257246862142, 0.6614257246862142, 0.6614257246862142, 0.6614257246862142, 0.6614257246862142, 0.6614257246862142, 0.6614257246862142, 0.6614257246862142, 0.6614257246862142, 0.6614257246862142, 0.6614257246862142, 0.6614257246862142, 0.6614257246862142, 0.6635527532321184, 0.6635527532321184]}], \"f1_score_micro\": [{\"categories\": [\"0\", \"1\", \"2\", \"3\", \"4\", \"5\", \"6\", \"7\", \"8\", \"9\", \"10\", \"11\", \"12\", \"13\", \"14\", \"15\", \"16\", \"17\", \"18\", \"19\", \"20\", \"21\", \"22\", \"23\", \"24\", \"25\", \"26\", \"27\", \"28\", \"29\", \"30\", \"31\", \"32\", \"33\", \"34\", \"38\", \"39\"], \"mode\": \"markers\", \"name\": \"f1_score_micro\", \"stepped\": false, \"type\": \"scatter\", \"data\": [0.6190955496441153, 0.620102092170537, 0.6135595657487958, 0.6160040261701056, 0.5982457401682364, 0.6033503486950895, 0.6038536199583003, 0.6114026889064634, 0.5855920626932202, 0.6009058882737796, 0.6109713135379969, 0.5920626932202171, 0.5821410597454886, 0.6137033575382845, 0.6109713135379969, 0.5940757782730606, 0.6088863325904091, 0.6088863325904091, 0.5935725070098498, 0.6221870731181249, 0.6078797900639873, 0.6193831332230929, 0.6177295276439715, 0.6186641742756489, 0.6130562944855849, 0.6124092314328852, 0.6230498238550579, 0.5976705730102811, 0.6228341361708246, 0.6107556258537638, 0.6022719102739233, 0.6103242504852973, 0.614134732906751, 0.6223308649076138, 0.6219713854338917, 0.6231217197498022, 0.6220432813286362]}, {\"categories\": [\"0\", \"1\", \"2\", \"3\", \"4\", \"5\", \"6\", \"7\", \"8\", \"9\", \"10\", \"11\", \"12\", \"13\", \"14\", \"15\", \"16\", \"17\", \"18\", \"19\", \"20\", \"21\", \"22\", \"23\", \"24\", \"25\", \"26\", \"27\", \"28\", \"29\", \"30\", \"31\", \"32\", \"33\", \"34\", \"38\", \"39\"], \"mode\": \"lines\", \"name\": \"f1_score_micro_max\", \"stepped\": true, \"type\": \"scatter\", \"data\": [0.6190955496441153, 0.620102092170537, 0.620102092170537, 0.620102092170537, 0.620102092170537, 0.620102092170537, 0.620102092170537, 0.620102092170537, 0.620102092170537, 0.620102092170537, 0.620102092170537, 0.620102092170537, 0.620102092170537, 0.620102092170537, 0.620102092170537, 0.620102092170537, 0.620102092170537, 0.620102092170537, 0.620102092170537, 0.6221870731181249, 0.6221870731181249, 0.6221870731181249, 0.6221870731181249, 0.6221870731181249, 0.6221870731181249, 0.6221870731181249, 0.6230498238550579, 0.6230498238550579, 0.6230498238550579, 0.6230498238550579, 0.6230498238550579, 0.6230498238550579, 0.6230498238550579, 0.6230498238550579, 0.6230498238550579, 0.6231217197498022, 0.6231217197498022]}], \"matthews_correlation\": [{\"categories\": [\"0\", \"1\", \"2\", \"3\", \"4\", \"5\", \"6\", \"7\", \"8\", \"9\", \"10\", \"11\", \"12\", \"13\", \"14\", \"15\", \"16\", \"17\", \"18\", \"19\", \"20\", \"21\", \"22\", \"23\", \"24\", \"25\", \"26\", \"27\", \"28\", \"29\", \"30\", \"31\", \"32\", \"33\", \"34\", \"38\", \"39\"], \"mode\": \"markers\", \"name\": \"matthews_correlation\", \"stepped\": false, \"type\": \"scatter\", \"data\": [0.23840255556609066, 0.24058225189666027, 0.22714336281332903, 0.2321397440085263, 0.1964880609034177, 0.20704434348511078, 0.2079319248512689, 0.22303760170091727, 0.17393841540146304, 0.20314993722028832, 0.22204142435060958, 0.19053708313733947, 0.16432843100596753, 0.2275910397137221, 0.2219891750822789, 0.18854555216818272, 0.21987541241293546, 0.21786828568679764, 0.18781006258254862, 0.24464153013612167, 0.2157764611345806, 0.23916928306301552, 0.23556087180702867, 0.2373543714514997, 0.2262057920536562, 0.2248633248546126, 0.24618203233010263, 0.19535419209281493, 0.24575902567661942, 0.2216131577349274, 0.20454767009781477, 0.22065145409159068, 0.22827535865625723, 0.24492619412302374, 0.24419488851281376, 0.24636617051808188, 0.24423495009595397]}, {\"categories\": [\"0\", \"1\", \"2\", \"3\", \"4\", \"5\", \"6\", \"7\", \"8\", \"9\", \"10\", \"11\", \"12\", \"13\", \"14\", \"15\", \"16\", \"17\", \"18\", \"19\", \"20\", \"21\", \"22\", \"23\", \"24\", \"25\", \"26\", \"27\", \"28\", \"29\", \"30\", \"31\", \"32\", \"33\", \"34\", \"38\", \"39\"], \"mode\": \"lines\", \"name\": \"matthews_correlation_max\", \"stepped\": true, \"type\": \"scatter\", \"data\": [0.23840255556609066, 0.24058225189666027, 0.24058225189666027, 0.24058225189666027, 0.24058225189666027, 0.24058225189666027, 0.24058225189666027, 0.24058225189666027, 0.24058225189666027, 0.24058225189666027, 0.24058225189666027, 0.24058225189666027, 0.24058225189666027, 0.24058225189666027, 0.24058225189666027, 0.24058225189666027, 0.24058225189666027, 0.24058225189666027, 0.24058225189666027, 0.24464153013612167, 0.24464153013612167, 0.24464153013612167, 0.24464153013612167, 0.24464153013612167, 0.24464153013612167, 0.24464153013612167, 0.24618203233010263, 0.24618203233010263, 0.24618203233010263, 0.24618203233010263, 0.24618203233010263, 0.24618203233010263, 0.24618203233010263, 0.24618203233010263, 0.24618203233010263, 0.24636617051808188, 0.24636617051808188]}], \"recall_score_micro\": [{\"categories\": [\"0\", \"1\", \"2\", \"3\", \"4\", \"5\", \"6\", \"7\", \"8\", \"9\", \"10\", \"11\", \"12\", \"13\", \"14\", \"15\", \"16\", \"17\", \"18\", \"19\", \"20\", \"21\", \"22\", \"23\", \"24\", \"25\", \"26\", \"27\", \"28\", \"29\", \"30\", \"31\", \"32\", \"33\", \"34\", \"38\", \"39\"], \"mode\": \"markers\", \"name\": \"recall_score_micro\", \"stepped\": false, \"type\": \"scatter\", \"data\": [0.6190955496441153, 0.620102092170537, 0.6135595657487958, 0.6160040261701056, 0.5982457401682364, 0.6033503486950895, 0.6038536199583003, 0.6114026889064634, 0.5855920626932202, 0.6009058882737796, 0.6109713135379969, 0.5920626932202171, 0.5821410597454886, 0.6137033575382845, 0.6109713135379969, 0.5940757782730606, 0.6088863325904091, 0.6088863325904091, 0.5935725070098498, 0.6221870731181249, 0.6078797900639873, 0.6193831332230929, 0.6177295276439715, 0.6186641742756489, 0.6130562944855849, 0.6124092314328852, 0.6230498238550579, 0.5976705730102811, 0.6228341361708246, 0.6107556258537638, 0.6022719102739233, 0.6103242504852973, 0.614134732906751, 0.6223308649076138, 0.6219713854338917, 0.6231217197498022, 0.6220432813286362]}, {\"categories\": [\"0\", \"1\", \"2\", \"3\", \"4\", \"5\", \"6\", \"7\", \"8\", \"9\", \"10\", \"11\", \"12\", \"13\", \"14\", \"15\", \"16\", \"17\", \"18\", \"19\", \"20\", \"21\", \"22\", \"23\", \"24\", \"25\", \"26\", \"27\", \"28\", \"29\", \"30\", \"31\", \"32\", \"33\", \"34\", \"38\", \"39\"], \"mode\": \"lines\", \"name\": \"recall_score_micro_max\", \"stepped\": true, \"type\": \"scatter\", \"data\": [0.6190955496441153, 0.620102092170537, 0.620102092170537, 0.620102092170537, 0.620102092170537, 0.620102092170537, 0.620102092170537, 0.620102092170537, 0.620102092170537, 0.620102092170537, 0.620102092170537, 0.620102092170537, 0.620102092170537, 0.620102092170537, 0.620102092170537, 0.620102092170537, 0.620102092170537, 0.620102092170537, 0.620102092170537, 0.6221870731181249, 0.6221870731181249, 0.6221870731181249, 0.6221870731181249, 0.6221870731181249, 0.6221870731181249, 0.6221870731181249, 0.6230498238550579, 0.6230498238550579, 0.6230498238550579, 0.6230498238550579, 0.6230498238550579, 0.6230498238550579, 0.6230498238550579, 0.6230498238550579, 0.6230498238550579, 0.6231217197498022, 0.6231217197498022]}], \"weighted_accuracy\": [{\"categories\": [\"0\", \"1\", \"2\", \"3\", \"4\", \"5\", \"6\", \"7\", \"8\", \"9\", \"10\", \"11\", \"12\", \"13\", \"14\", \"15\", \"16\", \"17\", \"18\", \"19\", \"20\", \"21\", \"22\", \"23\", \"24\", \"25\", \"26\", \"27\", \"28\", \"29\", \"30\", \"31\", \"32\", \"33\", \"34\", \"38\", \"39\"], \"mode\": \"markers\", \"name\": \"weighted_accuracy\", \"stepped\": false, \"type\": \"scatter\", \"data\": [0.6191244138275825, 0.6201393906779039, 0.6135532010476346, 0.6160278861992395, 0.5982484492834896, 0.6033891660714118, 0.6038856703461589, 0.6114339371583575, 0.5854877611494682, 0.6009795070902562, 0.6109559896365445, 0.5922235833379381, 0.5821606645736649, 0.6137312631716118, 0.6109874482433293, 0.594119266783924, 0.6089739113246693, 0.6089080064221872, 0.5936278591549689, 0.6222186567526395, 0.6078914478542061, 0.619421663029319, 0.6177507488993751, 0.6186766946877081, 0.613077259102462, 0.6124250124973786, 0.6230687524594805, 0.5976822460514822, 0.6228538559562808, 0.6107776483859217, 0.6022805887525298, 0.6103228993897826, 0.6141324095137319, 0.6223622725809191, 0.6220021785317803, 0.6231440753017528, 0.6220676595752819]}, {\"categories\": [\"0\", \"1\", \"2\", \"3\", \"4\", \"5\", \"6\", \"7\", \"8\", \"9\", \"10\", \"11\", \"12\", \"13\", \"14\", \"15\", \"16\", \"17\", \"18\", \"19\", \"20\", \"21\", \"22\", \"23\", \"24\", \"25\", \"26\", \"27\", \"28\", \"29\", \"30\", \"31\", \"32\", \"33\", \"34\", \"38\", \"39\"], \"mode\": \"lines\", \"name\": \"weighted_accuracy_max\", \"stepped\": true, \"type\": \"scatter\", \"data\": [0.6191244138275825, 0.6201393906779039, 0.6201393906779039, 0.6201393906779039, 0.6201393906779039, 0.6201393906779039, 0.6201393906779039, 0.6201393906779039, 0.6201393906779039, 0.6201393906779039, 0.6201393906779039, 0.6201393906779039, 0.6201393906779039, 0.6201393906779039, 0.6201393906779039, 0.6201393906779039, 0.6201393906779039, 0.6201393906779039, 0.6201393906779039, 0.6222186567526395, 0.6222186567526395, 0.6222186567526395, 0.6222186567526395, 0.6222186567526395, 0.6222186567526395, 0.6222186567526395, 0.6230687524594805, 0.6230687524594805, 0.6230687524594805, 0.6230687524594805, 0.6230687524594805, 0.6230687524594805, 0.6230687524594805, 0.6230687524594805, 0.6230687524594805, 0.6231440753017528, 0.6231440753017528]}], \"AUC_micro\": [{\"categories\": [\"0\", \"1\", \"2\", \"3\", \"4\", \"5\", \"6\", \"7\", \"8\", \"9\", \"10\", \"11\", \"12\", \"13\", \"14\", \"15\", \"16\", \"17\", \"18\", \"19\", \"20\", \"21\", \"22\", \"23\", \"24\", \"25\", \"26\", \"27\", \"28\", \"29\", \"30\", \"31\", \"32\", \"33\", \"34\", \"38\", \"39\"], \"mode\": \"markers\", \"name\": \"AUC_micro\", \"stepped\": false, \"type\": \"scatter\", \"data\": [0.6674075646566439, 0.6710238651002476, 0.6590000352578832, 0.6659629735573473, 0.6384370029939117, 0.6407065076060755, 0.6466213444608819, 0.6534998003026782, 0.630453415913316, 0.636724904788079, 0.6594827441608027, 0.6294605247678721, 0.6175277911438576, 0.6620682645447, 0.6592329667917726, 0.6334334746469225, 0.6441286570859472, 0.6503193748591733, 0.6349759721479986, 0.6693478027151216, 0.6542545753874927, 0.6691786155319396, 0.6680193749951185, 0.6697398831959724, 0.6555373167270444, 0.6551822076594627, 0.6692298973761958, 0.6376946309718221, 0.6692300059256091, 0.6615129412533005, 0.6418668543131083, 0.6580890885814438, 0.6609350681135422, 0.6693188665429469, 0.669352449663815, 0.6728839445860207, 0.6719381432098717]}, {\"categories\": [\"0\", \"1\", \"2\", \"3\", \"4\", \"5\", \"6\", \"7\", \"8\", \"9\", \"10\", \"11\", \"12\", \"13\", \"14\", \"15\", \"16\", \"17\", \"18\", \"19\", \"20\", \"21\", \"22\", \"23\", \"24\", \"25\", \"26\", \"27\", \"28\", \"29\", \"30\", \"31\", \"32\", \"33\", \"34\", \"38\", \"39\"], \"mode\": \"lines\", \"name\": \"AUC_micro_max\", \"stepped\": true, \"type\": \"scatter\", \"data\": [0.6674075646566439, 0.6710238651002476, 0.6710238651002476, 0.6710238651002476, 0.6710238651002476, 0.6710238651002476, 0.6710238651002476, 0.6710238651002476, 0.6710238651002476, 0.6710238651002476, 0.6710238651002476, 0.6710238651002476, 0.6710238651002476, 0.6710238651002476, 0.6710238651002476, 0.6710238651002476, 0.6710238651002476, 0.6710238651002476, 0.6710238651002476, 0.6710238651002476, 0.6710238651002476, 0.6710238651002476, 0.6710238651002476, 0.6710238651002476, 0.6710238651002476, 0.6710238651002476, 0.6710238651002476, 0.6710238651002476, 0.6710238651002476, 0.6710238651002476, 0.6710238651002476, 0.6710238651002476, 0.6710238651002476, 0.6710238651002476, 0.6710238651002476, 0.6728839445860207, 0.6728839445860207]}], \"AUC_weighted\": [{\"categories\": [\"0\", \"1\", \"2\", \"3\", \"4\", \"5\", \"6\", \"7\", \"8\", \"9\", \"10\", \"11\", \"12\", \"13\", \"14\", \"15\", \"16\", \"17\", \"18\", \"19\", \"20\", \"21\", \"22\", \"23\", \"24\", \"25\", \"26\", \"27\", \"28\", \"29\", \"30\", \"31\", \"32\", \"33\", \"34\", \"38\", \"39\"], \"mode\": \"markers\", \"name\": \"AUC_weighted\", \"stepped\": false, \"type\": \"scatter\", \"data\": [0.6671913022719446, 0.6709217479963505, 0.6593338430407876, 0.665848947207648, 0.6388989305861235, 0.6414804669277563, 0.6474249001312892, 0.6546815426313053, 0.6341702939799563, 0.6379759904052927, 0.6595628206166783, 0.6337382149793532, 0.6182260050956685, 0.661879113486162, 0.6593010610689986, 0.6345878790277216, 0.6477431674865365, 0.6503487087914281, 0.6359363025301893, 0.6689671112981335, 0.654249970195388, 0.6688159275972909, 0.6677049330115642, 0.6695693960330569, 0.6553615798764222, 0.6551710598644086, 0.6689630174284305, 0.6377190018762235, 0.6689568972999853, 0.6616294184484408, 0.6420902312516493, 0.6580282190852154, 0.6609516452373263, 0.6689413281894481, 0.6689627693151149, 0.6726790209029082, 0.6716708847997884]}, {\"categories\": [\"0\", \"1\", \"2\", \"3\", \"4\", \"5\", \"6\", \"7\", \"8\", \"9\", \"10\", \"11\", \"12\", \"13\", \"14\", \"15\", \"16\", \"17\", \"18\", \"19\", \"20\", \"21\", \"22\", \"23\", \"24\", \"25\", \"26\", \"27\", \"28\", \"29\", \"30\", \"31\", \"32\", \"33\", \"34\", \"38\", \"39\"], \"mode\": \"lines\", \"name\": \"AUC_weighted_max\", \"stepped\": true, \"type\": \"scatter\", \"data\": [0.6671913022719446, 0.6709217479963505, 0.6709217479963505, 0.6709217479963505, 0.6709217479963505, 0.6709217479963505, 0.6709217479963505, 0.6709217479963505, 0.6709217479963505, 0.6709217479963505, 0.6709217479963505, 0.6709217479963505, 0.6709217479963505, 0.6709217479963505, 0.6709217479963505, 0.6709217479963505, 0.6709217479963505, 0.6709217479963505, 0.6709217479963505, 0.6709217479963505, 0.6709217479963505, 0.6709217479963505, 0.6709217479963505, 0.6709217479963505, 0.6709217479963505, 0.6709217479963505, 0.6709217479963505, 0.6709217479963505, 0.6709217479963505, 0.6709217479963505, 0.6709217479963505, 0.6709217479963505, 0.6709217479963505, 0.6709217479963505, 0.6709217479963505, 0.6726790209029082, 0.6726790209029082]}], \"precision_score_micro\": [{\"categories\": [\"0\", \"1\", \"2\", \"3\", \"4\", \"5\", \"6\", \"7\", \"8\", \"9\", \"10\", \"11\", \"12\", \"13\", \"14\", \"15\", \"16\", \"17\", \"18\", \"19\", \"20\", \"21\", \"22\", \"23\", \"24\", \"25\", \"26\", \"27\", \"28\", \"29\", \"30\", \"31\", \"32\", \"33\", \"34\", \"38\", \"39\"], \"mode\": \"markers\", \"name\": \"precision_score_micro\", \"stepped\": false, \"type\": \"scatter\", \"data\": [0.6190955496441153, 0.620102092170537, 0.6135595657487958, 0.6160040261701056, 0.5982457401682364, 0.6033503486950895, 0.6038536199583003, 0.6114026889064634, 0.5855920626932202, 0.6009058882737796, 0.6109713135379969, 0.5920626932202171, 0.5821410597454886, 0.6137033575382845, 0.6109713135379969, 0.5940757782730606, 0.6088863325904091, 0.6088863325904091, 0.5935725070098498, 0.6221870731181249, 0.6078797900639873, 0.6193831332230929, 0.6177295276439715, 0.6186641742756489, 0.6130562944855849, 0.6124092314328852, 0.6230498238550579, 0.5976705730102811, 0.6228341361708246, 0.6107556258537638, 0.6022719102739233, 0.6103242504852973, 0.614134732906751, 0.6223308649076138, 0.6219713854338917, 0.6231217197498022, 0.6220432813286362]}, {\"categories\": [\"0\", \"1\", \"2\", \"3\", \"4\", \"5\", \"6\", \"7\", \"8\", \"9\", \"10\", \"11\", \"12\", \"13\", \"14\", \"15\", \"16\", \"17\", \"18\", \"19\", \"20\", \"21\", \"22\", \"23\", \"24\", \"25\", \"26\", \"27\", \"28\", \"29\", \"30\", \"31\", \"32\", \"33\", \"34\", \"38\", \"39\"], \"mode\": \"lines\", \"name\": \"precision_score_micro_max\", \"stepped\": true, \"type\": \"scatter\", \"data\": [0.6190955496441153, 0.620102092170537, 0.620102092170537, 0.620102092170537, 0.620102092170537, 0.620102092170537, 0.620102092170537, 0.620102092170537, 0.620102092170537, 0.620102092170537, 0.620102092170537, 0.620102092170537, 0.620102092170537, 0.620102092170537, 0.620102092170537, 0.620102092170537, 0.620102092170537, 0.620102092170537, 0.620102092170537, 0.6221870731181249, 0.6221870731181249, 0.6221870731181249, 0.6221870731181249, 0.6221870731181249, 0.6221870731181249, 0.6221870731181249, 0.6230498238550579, 0.6230498238550579, 0.6230498238550579, 0.6230498238550579, 0.6230498238550579, 0.6230498238550579, 0.6230498238550579, 0.6230498238550579, 0.6230498238550579, 0.6231217197498022, 0.6231217197498022]}], \"f1_score_macro\": [{\"categories\": [\"0\", \"1\", \"2\", \"3\", \"4\", \"5\", \"6\", \"7\", \"8\", \"9\", \"10\", \"11\", \"12\", \"13\", \"14\", \"15\", \"16\", \"17\", \"18\", \"19\", \"20\", \"21\", \"22\", \"23\", \"24\", \"25\", \"26\", \"27\", \"28\", \"29\", \"30\", \"31\", \"32\", \"33\", \"34\", \"38\", \"39\"], \"mode\": \"markers\", \"name\": \"f1_score_macro\", \"stepped\": false, \"type\": \"scatter\", \"data\": [0.6188691468985861, 0.6197301472808221, 0.6135518871362239, 0.6158461154436374, 0.5982422492460919, 0.602931023447725, 0.6035654543064157, 0.6111334294488866, 0.5826031704540007, 0.5994168957471916, 0.610917220933708, 0.5847884948256178, 0.5820237668748134, 0.6134884169730511, 0.6108956166947257, 0.5935399707759503, 0.6068254534596448, 0.6087527574245337, 0.5927101805976018, 0.6219195287092564, 0.6078383380729984, 0.6189860864205426, 0.6176040048485398, 0.6186180264536121, 0.6129322453126264, 0.6123368928727686, 0.6229502778836199, 0.5976280417778692, 0.6227264399954466, 0.6106185173173514, 0.6022474830497435, 0.6103242001292504, 0.6141342223025144, 0.6220663078002432, 0.6217165616751796, 0.6229848653645356, 0.6218811669745974]}, {\"categories\": [\"0\", \"1\", \"2\", \"3\", \"4\", \"5\", \"6\", \"7\", \"8\", \"9\", \"10\", \"11\", \"12\", \"13\", \"14\", \"15\", \"16\", \"17\", \"18\", \"19\", \"20\", \"21\", \"22\", \"23\", \"24\", \"25\", \"26\", \"27\", \"28\", \"29\", \"30\", \"31\", \"32\", \"33\", \"34\", \"38\", \"39\"], \"mode\": \"lines\", \"name\": \"f1_score_macro_max\", \"stepped\": true, \"type\": \"scatter\", \"data\": [0.6188691468985861, 0.6197301472808221, 0.6197301472808221, 0.6197301472808221, 0.6197301472808221, 0.6197301472808221, 0.6197301472808221, 0.6197301472808221, 0.6197301472808221, 0.6197301472808221, 0.6197301472808221, 0.6197301472808221, 0.6197301472808221, 0.6197301472808221, 0.6197301472808221, 0.6197301472808221, 0.6197301472808221, 0.6197301472808221, 0.6197301472808221, 0.6219195287092564, 0.6219195287092564, 0.6219195287092564, 0.6219195287092564, 0.6219195287092564, 0.6219195287092564, 0.6219195287092564, 0.6229502778836199, 0.6229502778836199, 0.6229502778836199, 0.6229502778836199, 0.6229502778836199, 0.6229502778836199, 0.6229502778836199, 0.6229502778836199, 0.6229502778836199, 0.6229848653645356, 0.6229848653645356]}], \"accuracy\": [{\"categories\": [\"0\", \"1\", \"2\", \"3\", \"4\", \"5\", \"6\", \"7\", \"8\", \"9\", \"10\", \"11\", \"12\", \"13\", \"14\", \"15\", \"16\", \"17\", \"18\", \"19\", \"20\", \"21\", \"22\", \"23\", \"24\", \"25\", \"26\", \"27\", \"28\", \"29\", \"30\", \"31\", \"32\", \"33\", \"34\", \"38\", \"39\"], \"mode\": \"markers\", \"name\": \"accuracy\", \"stepped\": false, \"type\": \"scatter\", \"data\": [0.6190955496441153, 0.620102092170537, 0.6135595657487958, 0.6160040261701056, 0.5982457401682364, 0.6033503486950895, 0.6038536199583003, 0.6114026889064634, 0.5855920626932202, 0.6009058882737796, 0.6109713135379969, 0.5920626932202171, 0.5821410597454886, 0.6137033575382845, 0.6109713135379969, 0.5940757782730606, 0.6088863325904091, 0.6088863325904091, 0.5935725070098498, 0.6221870731181249, 0.6078797900639873, 0.6193831332230929, 0.6177295276439715, 0.6186641742756489, 0.6130562944855849, 0.6124092314328852, 0.6230498238550579, 0.5976705730102811, 0.6228341361708246, 0.6107556258537638, 0.6022719102739233, 0.6103242504852973, 0.614134732906751, 0.6223308649076138, 0.6219713854338917, 0.6231217197498022, 0.6220432813286362]}, {\"categories\": [\"0\", \"1\", \"2\", \"3\", \"4\", \"5\", \"6\", \"7\", \"8\", \"9\", \"10\", \"11\", \"12\", \"13\", \"14\", \"15\", \"16\", \"17\", \"18\", \"19\", \"20\", \"21\", \"22\", \"23\", \"24\", \"25\", \"26\", \"27\", \"28\", \"29\", \"30\", \"31\", \"32\", \"33\", \"34\", \"38\", \"39\"], \"mode\": \"lines\", \"name\": \"accuracy_max\", \"stepped\": true, \"type\": \"scatter\", \"data\": [0.6190955496441153, 0.620102092170537, 0.620102092170537, 0.620102092170537, 0.620102092170537, 0.620102092170537, 0.620102092170537, 0.620102092170537, 0.620102092170537, 0.620102092170537, 0.620102092170537, 0.620102092170537, 0.620102092170537, 0.620102092170537, 0.620102092170537, 0.620102092170537, 0.620102092170537, 0.620102092170537, 0.620102092170537, 0.6221870731181249, 0.6221870731181249, 0.6221870731181249, 0.6221870731181249, 0.6221870731181249, 0.6221870731181249, 0.6221870731181249, 0.6230498238550579, 0.6230498238550579, 0.6230498238550579, 0.6230498238550579, 0.6230498238550579, 0.6230498238550579, 0.6230498238550579, 0.6230498238550579, 0.6230498238550579, 0.6231217197498022, 0.6231217197498022]}], \"log_loss\": [{\"categories\": [\"0\", \"1\", \"2\", \"3\", \"4\", \"5\", \"6\", \"7\", \"8\", \"9\", \"10\", \"11\", \"12\", \"13\", \"14\", \"15\", \"16\", \"17\", \"18\", \"19\", \"20\", \"21\", \"22\", \"23\", \"24\", \"25\", \"26\", \"27\", \"28\", \"29\", \"30\", \"31\", \"32\", \"33\", \"34\", \"38\", \"39\"], \"mode\": \"markers\", \"name\": \"log_loss\", \"stepped\": false, \"type\": \"scatter\", \"data\": [0.649097075584496, 0.645860330734546, 0.6596386044666327, 0.6561471380985108, 0.6729201407509117, 0.6632840946103373, 0.6625109716870773, 0.6645017577467146, 0.6843946625309776, 0.6760318187075088, 0.6664851172244587, 0.6714900603347889, 0.6886653964648325, 0.6586978642523045, 0.6588765670767264, 0.6655989827107188, 0.663980864118829, 0.6670686042062985, 0.6760715053274402, 0.6478943232005422, 0.656017039025391, 0.6478250583594408, 0.6472197841440245, 0.6477384306879415, 0.663113554554804, 0.6642198630881224, 0.6479740753428038, 0.6849092693966343, 0.6479701479145963, 0.6576118928449117, 0.67258005722046, 0.6561149819407572, 0.6527836330628721, 0.6478730675650367, 0.6478456278205328, 0.6452992052707468, 0.6455160473485272]}, {\"categories\": [\"0\", \"1\", \"2\", \"3\", \"4\", \"5\", \"6\", \"7\", \"8\", \"9\", \"10\", \"11\", \"12\", \"13\", \"14\", \"15\", \"16\", \"17\", \"18\", \"19\", \"20\", \"21\", \"22\", \"23\", \"24\", \"25\", \"26\", \"27\", \"28\", \"29\", \"30\", \"31\", \"32\", \"33\", \"34\", \"38\", \"39\"], \"mode\": \"lines\", \"name\": \"log_loss_min\", \"stepped\": true, \"type\": \"scatter\", \"data\": [0.649097075584496, 0.645860330734546, 0.645860330734546, 0.645860330734546, 0.645860330734546, 0.645860330734546, 0.645860330734546, 0.645860330734546, 0.645860330734546, 0.645860330734546, 0.645860330734546, 0.645860330734546, 0.645860330734546, 0.645860330734546, 0.645860330734546, 0.645860330734546, 0.645860330734546, 0.645860330734546, 0.645860330734546, 0.645860330734546, 0.645860330734546, 0.645860330734546, 0.645860330734546, 0.645860330734546, 0.645860330734546, 0.645860330734546, 0.645860330734546, 0.645860330734546, 0.645860330734546, 0.645860330734546, 0.645860330734546, 0.645860330734546, 0.645860330734546, 0.645860330734546, 0.645860330734546, 0.6452992052707468, 0.6452992052707468]}], \"recall_score_weighted\": [{\"categories\": [\"0\", \"1\", \"2\", \"3\", \"4\", \"5\", \"6\", \"7\", \"8\", \"9\", \"10\", \"11\", \"12\", \"13\", \"14\", \"15\", \"16\", \"17\", \"18\", \"19\", \"20\", \"21\", \"22\", \"23\", \"24\", \"25\", \"26\", \"27\", \"28\", \"29\", \"30\", \"31\", \"32\", \"33\", \"34\", \"38\", \"39\"], \"mode\": \"markers\", \"name\": \"recall_score_weighted\", \"stepped\": false, \"type\": \"scatter\", \"data\": [0.6190955496441153, 0.620102092170537, 0.6135595657487958, 0.6160040261701056, 0.5982457401682364, 0.6033503486950895, 0.6038536199583003, 0.6114026889064634, 0.5855920626932202, 0.6009058882737796, 0.6109713135379969, 0.5920626932202171, 0.5821410597454886, 0.6137033575382845, 0.6109713135379969, 0.5940757782730606, 0.6088863325904091, 0.6088863325904091, 0.5935725070098498, 0.6221870731181249, 0.6078797900639873, 0.6193831332230929, 0.6177295276439715, 0.6186641742756489, 0.6130562944855849, 0.6124092314328852, 0.6230498238550579, 0.5976705730102811, 0.6228341361708246, 0.6107556258537638, 0.6022719102739233, 0.6103242504852973, 0.614134732906751, 0.6223308649076138, 0.6219713854338917, 0.6231217197498022, 0.6220432813286362]}, {\"categories\": [\"0\", \"1\", \"2\", \"3\", \"4\", \"5\", \"6\", \"7\", \"8\", \"9\", \"10\", \"11\", \"12\", \"13\", \"14\", \"15\", \"16\", \"17\", \"18\", \"19\", \"20\", \"21\", \"22\", \"23\", \"24\", \"25\", \"26\", \"27\", \"28\", \"29\", \"30\", \"31\", \"32\", \"33\", \"34\", \"38\", \"39\"], \"mode\": \"lines\", \"name\": \"recall_score_weighted_max\", \"stepped\": true, \"type\": \"scatter\", \"data\": [0.6190955496441153, 0.620102092170537, 0.620102092170537, 0.620102092170537, 0.620102092170537, 0.620102092170537, 0.620102092170537, 0.620102092170537, 0.620102092170537, 0.620102092170537, 0.620102092170537, 0.620102092170537, 0.620102092170537, 0.620102092170537, 0.620102092170537, 0.620102092170537, 0.620102092170537, 0.620102092170537, 0.620102092170537, 0.6221870731181249, 0.6221870731181249, 0.6221870731181249, 0.6221870731181249, 0.6221870731181249, 0.6221870731181249, 0.6221870731181249, 0.6230498238550579, 0.6230498238550579, 0.6230498238550579, 0.6230498238550579, 0.6230498238550579, 0.6230498238550579, 0.6230498238550579, 0.6230498238550579, 0.6230498238550579, 0.6231217197498022, 0.6231217197498022]}]}, \"metricName\": null, \"primaryMetricName\": \"AUC_weighted\", \"showLegend\": false}, \"run_metrics\": [{\"name\": \"experiment_status\", \"run_id\": \"AutoML_a3c272b0-8768-4d9c-b9c8-547f08a0283d\", \"categories\": [0, 1, 2, 3, 4, 5, 6, 7, 8, 9, 10, 11, 12], \"series\": [{\"data\": [\"DatasetEvaluation\", \"FeaturesGeneration\", \"DatasetFeaturization\", \"DatasetFeaturizationCompleted\", \"ModelSelection\", \"BestRunExplainModel\", \"ModelExplanationDataSetSetup\", \"PickSurrogateModel\", \"EngineeredFeatureExplanations\", \"EngineeredFeatureExplanations\", \"RawFeaturesExplanations\", \"RawFeaturesExplanations\", \"BestRunExplainModel\"]}]}, {\"name\": \"experiment_status_description\", \"run_id\": \"AutoML_a3c272b0-8768-4d9c-b9c8-547f08a0283d\", \"categories\": [0, 1, 2, 3, 4, 5, 6, 7, 8, 9, 10, 11, 12], \"series\": [{\"data\": [\"Gathering dataset statistics.\", \"Generating features for the dataset.\", \"Beginning to fit featurizers and featurize the dataset.\", \"Completed fit featurizers and featurizing the dataset.\", \"Beginning model selection.\", \"Best run model explanations started\", \"Model explanations data setup completed\", \"Choosing LightGBM as the surrogate model for explanations\", \"Computation of engineered features started\", \"Computation of engineered features completed\", \"Computation of raw features started\", \"Computation of raw features completed\", \"Best run model explanations completed\"]}]}, {\"name\": \"precision_score_micro\", \"run_id\": \"AutoML_a3c272b0-8768-4d9c-b9c8-547f08a0283d\", \"categories\": [0], \"series\": [{\"data\": [0.6231217197498022]}]}, {\"name\": \"f1_score_weighted\", \"run_id\": \"AutoML_a3c272b0-8768-4d9c-b9c8-547f08a0283d\", \"categories\": [0], \"series\": [{\"data\": [0.6229936447024583]}]}, {\"name\": \"AUC_weighted\", \"run_id\": \"AutoML_a3c272b0-8768-4d9c-b9c8-547f08a0283d\", \"categories\": [0], \"series\": [{\"data\": [0.6726790209029082]}]}, {\"name\": \"recall_score_micro\", \"run_id\": \"AutoML_a3c272b0-8768-4d9c-b9c8-547f08a0283d\", \"categories\": [0], \"series\": [{\"data\": [0.6231217197498022]}]}, {\"name\": \"weighted_accuracy\", \"run_id\": \"AutoML_a3c272b0-8768-4d9c-b9c8-547f08a0283d\", \"categories\": [0], \"series\": [{\"data\": [0.6231440753017528]}]}, {\"name\": \"AUC_macro\", \"run_id\": \"AutoML_a3c272b0-8768-4d9c-b9c8-547f08a0283d\", \"categories\": [0], \"series\": [{\"data\": [0.6726790208902726]}]}, {\"name\": \"f1_score_macro\", \"run_id\": \"AutoML_a3c272b0-8768-4d9c-b9c8-547f08a0283d\", \"categories\": [0], \"series\": [{\"data\": [0.6229848653645356]}]}, {\"name\": \"accuracy\", \"run_id\": \"AutoML_a3c272b0-8768-4d9c-b9c8-547f08a0283d\", \"categories\": [0], \"series\": [{\"data\": [0.6231217197498022]}]}, {\"name\": \"average_precision_score_micro\", \"run_id\": \"AutoML_a3c272b0-8768-4d9c-b9c8-547f08a0283d\", \"categories\": [0], \"series\": [{\"data\": [0.6635527532321184]}]}, {\"name\": \"recall_score_macro\", \"run_id\": \"AutoML_a3c272b0-8768-4d9c-b9c8-547f08a0283d\", \"categories\": [0], \"series\": [{\"data\": [0.6230993641310603]}]}, {\"name\": \"log_loss\", \"run_id\": \"AutoML_a3c272b0-8768-4d9c-b9c8-547f08a0283d\", \"categories\": [0], \"series\": [{\"data\": [0.6452992052707468]}]}, {\"name\": \"balanced_accuracy\", \"run_id\": \"AutoML_a3c272b0-8768-4d9c-b9c8-547f08a0283d\", \"categories\": [0], \"series\": [{\"data\": [0.6230993641310603]}]}, {\"name\": \"matthews_correlation\", \"run_id\": \"AutoML_a3c272b0-8768-4d9c-b9c8-547f08a0283d\", \"categories\": [0], \"series\": [{\"data\": [0.24636617051808188]}]}, {\"name\": \"precision_score_macro\", \"run_id\": \"AutoML_a3c272b0-8768-4d9c-b9c8-547f08a0283d\", \"categories\": [0], \"series\": [{\"data\": [0.6232668633266112]}]}, {\"name\": \"precision_score_weighted\", \"run_id\": \"AutoML_a3c272b0-8768-4d9c-b9c8-547f08a0283d\", \"categories\": [0], \"series\": [{\"data\": [0.6232620535004791]}]}, {\"name\": \"average_precision_score_weighted\", \"run_id\": \"AutoML_a3c272b0-8768-4d9c-b9c8-547f08a0283d\", \"categories\": [0], \"series\": [{\"data\": [0.6638034205017188]}]}, {\"name\": \"AUC_micro\", \"run_id\": \"AutoML_a3c272b0-8768-4d9c-b9c8-547f08a0283d\", \"categories\": [0], \"series\": [{\"data\": [0.6728839445860207]}]}, {\"name\": \"norm_macro_recall\", \"run_id\": \"AutoML_a3c272b0-8768-4d9c-b9c8-547f08a0283d\", \"categories\": [0], \"series\": [{\"data\": [0.24619872826212053]}]}, {\"name\": \"recall_score_weighted\", \"run_id\": \"AutoML_a3c272b0-8768-4d9c-b9c8-547f08a0283d\", \"categories\": [0], \"series\": [{\"data\": [0.6231217197498022]}]}, {\"name\": \"f1_score_micro\", \"run_id\": \"AutoML_a3c272b0-8768-4d9c-b9c8-547f08a0283d\", \"categories\": [0], \"series\": [{\"data\": [0.6231217197498022]}]}, {\"name\": \"average_precision_score_macro\", \"run_id\": \"AutoML_a3c272b0-8768-4d9c-b9c8-547f08a0283d\", \"categories\": [0], \"series\": [{\"data\": [0.6638081027255343]}]}], \"run_logs\": \"\\nRun is completed.\", \"graph\": {}, \"widget_settings\": {\"childWidgetDisplay\": \"popup\", \"send_telemetry\": false, \"log_level\": \"INFO\", \"sdk_version\": \"1.26.0\"}, \"loading\": false}"
     },
     "metadata": {},
     "output_type": "display_data"
    }
   ],
   "source": [
    "from azureml.widgets import RunDetails\n",
    "RunDetails(automl_run).show()"
   ]
  },
  {
   "cell_type": "code",
   "execution_count": 10,
   "metadata": {},
   "outputs": [
    {
     "data": {
      "text/html": [
       "<table style=\"width:100%\"><tr><th>Experiment</th><th>Id</th><th>Type</th><th>Status</th><th>Details Page</th><th>Docs Page</th></tr><tr><td>AutoML_Bad_loan_detection</td><td>AutoML_a3c272b0-8768-4d9c-b9c8-547f08a0283d</td><td>automl</td><td>NotStarted</td><td><a href=\"https://ml.azure.com/runs/AutoML_a3c272b0-8768-4d9c-b9c8-547f08a0283d?wsid=/subscriptions/976ee174-3882-4721-b90a-b5fef6b72f24/resourcegroups/aml-quickstarts-143071/workspaces/quick-starts-ws-143071&amp;tid=660b3398-b80e-49d2-bc5b-ac1dc93b5254\" target=\"_blank\" rel=\"noopener\">Link to Azure Machine Learning studio</a></td><td><a href=\"https://docs.microsoft.com/en-us/python/api/overview/azure/ml/intro?view=azure-ml-py\" target=\"_blank\" rel=\"noopener\">Link to Documentation</a></td></tr></table>"
      ],
      "text/plain": [
       "<IPython.core.display.HTML object>"
      ]
     },
     "metadata": {},
     "output_type": "display_data"
    },
    {
     "name": "stdout",
     "output_type": "stream",
     "text": [
      "\n",
      "Current status: FeaturesGeneration. Generating features for the dataset.\n",
      "Current status: DatasetFeaturization. Beginning to fit featurizers and featurize the dataset.\n",
      "Current status: ModelSelection. Beginning model selection.\n",
      "\n",
      "****************************************************************************************************\n",
      "DATA GUARDRAILS: \n",
      "\n",
      "TYPE:         Class balancing detection\n",
      "STATUS:       PASSED\n",
      "DESCRIPTION:  Your inputs were analyzed, and all classes are balanced in your training data.\n",
      "              Learn more about imbalanced data: https://aka.ms/AutomatedMLImbalancedData\n",
      "\n",
      "****************************************************************************************************\n",
      "\n",
      "TYPE:         Missing feature values imputation\n",
      "STATUS:       PASSED\n",
      "DESCRIPTION:  No feature missing values were detected in the training data.\n",
      "              Learn more about missing value imputation: https://aka.ms/AutomatedMLFeaturization\n",
      "\n",
      "****************************************************************************************************\n",
      "\n",
      "TYPE:         High cardinality feature detection\n",
      "STATUS:       PASSED\n",
      "DESCRIPTION:  Your inputs were analyzed, and no high cardinality features were detected.\n",
      "              Learn more about high cardinality feature handling: https://aka.ms/AutomatedMLFeaturization\n",
      "\n",
      "****************************************************************************************************\n",
      "\n",
      "****************************************************************************************************\n",
      "ITERATION: The iteration being evaluated.\n",
      "PIPELINE: A summary description of the pipeline being evaluated.\n",
      "DURATION: Time taken for the current iteration.\n",
      "METRIC: The result of computing score on the fitted pipeline.\n",
      "BEST: The best observed score thus far.\n",
      "****************************************************************************************************\n",
      "\n",
      " ITERATION   PIPELINE                                       DURATION      METRIC      BEST\n",
      "         1   MaxAbsScaler XGBoostClassifier                 0:01:05       0.6709    0.6709\n",
      "         0   MaxAbsScaler LightGBM                          0:02:03       0.6672    0.6709\n",
      "         2   MaxAbsScaler RandomForest                      0:01:58       0.6593    0.6709\n",
      "         3   MaxAbsScaler RandomForest                      0:00:41       0.6658    0.6709\n",
      "         4   MaxAbsScaler RandomForest                      0:02:00       0.6389    0.6709\n",
      "         5   MaxAbsScaler ExtremeRandomTrees                0:00:42       0.6415    0.6709\n",
      "         6   MaxAbsScaler ExtremeRandomTrees                0:00:42       0.6474    0.6709\n",
      "         8   MaxAbsScaler RandomForest                      0:00:47       0.6342    0.6709\n",
      "         9   MaxAbsScaler ExtremeRandomTrees                0:00:41       0.6380    0.6709\n",
      "        10   MaxAbsScaler RandomForest                      0:00:37       0.6596    0.6709\n",
      "         7   MaxAbsScaler ExtremeRandomTrees                0:00:44       0.6547    0.6709\n",
      "        11   MaxAbsScaler RandomForest                      0:00:50       0.6337    0.6709\n",
      "        12   MaxAbsScaler RandomForest                      0:00:46       0.6182    0.6709\n",
      "        13   StandardScalerWrapper XGBoostClassifier        0:00:45       0.6619    0.6709\n",
      "        14   MaxAbsScaler RandomForest                      0:00:44       0.6593    0.6709\n",
      "        16   MaxAbsScaler ExtremeRandomTrees                0:00:43       0.6477    0.6709\n",
      "        15   StandardScalerWrapper ExtremeRandomTrees       0:00:57       0.6346    0.6709\n",
      "        17   MaxAbsScaler ExtremeRandomTrees                0:00:44       0.6503    0.6709\n",
      "        18   MaxAbsScaler RandomForest                      0:00:42       0.6359    0.6709\n",
      "        19   StandardScalerWrapper LogisticRegression       0:00:48       0.6690    0.6709\n",
      "        20   MaxAbsScaler LightGBM                          0:00:48       0.6542    0.6709\n",
      "        21   StandardScalerWrapper XGBoostClassifier        0:00:43       0.6688    0.6709\n",
      "        22   StandardScalerWrapper XGBoostClassifier        0:00:49       0.6677    0.6709\n",
      "        23   MaxAbsScaler LightGBM                          0:00:55       0.6696    0.6709\n",
      "        24   StandardScalerWrapper XGBoostClassifier        0:00:50       0.6554    0.6709\n",
      "        25   StandardScalerWrapper XGBoostClassifier        0:00:43       0.6552    0.6709\n",
      "        26   MaxAbsScaler LogisticRegression                0:00:40       0.6690    0.6709\n",
      "        27   StandardScalerWrapper XGBoostClassifier        0:00:53       0.6377    0.6709\n",
      "        28   MaxAbsScaler LogisticRegression                0:00:43       0.6690    0.6709\n",
      "        29   SparseNormalizer XGBoostClassifier             0:00:43       0.6616    0.6709\n",
      "        30   TruncatedSVDWrapper XGBoostClassifier          0:00:53       0.6421    0.6709\n",
      "        31   TruncatedSVDWrapper ExtremeRandomTrees         0:00:42       0.6580    0.6709\n",
      "        32   SparseNormalizer LightGBM                      0:00:42       0.6610    0.6709\n",
      "        33   MaxAbsScaler LogisticRegression                0:00:39       0.6689    0.6709\n",
      "        34   StandardScalerWrapper LogisticRegression       0:00:21       0.6690    0.6709\n",
      "        35                                                  0:00:14          nan    0.6709\n",
      "        36                                                  0:00:23          nan    0.6709\n",
      "        37                                                  0:00:17          nan    0.6709\n",
      "        38    VotingEnsemble                                0:01:03       0.6727    0.6727\n",
      "        39    StackEnsemble                                 0:01:15       0.6717    0.6727\n"
     ]
    },
    {
     "data": {
      "text/plain": [
       "{'runId': 'AutoML_a3c272b0-8768-4d9c-b9c8-547f08a0283d',\n",
       " 'target': 'cpu-cluster',\n",
       " 'status': 'Completed',\n",
       " 'startTimeUtc': '2021-04-18T18:19:46.670759Z',\n",
       " 'endTimeUtc': '2021-04-18T18:42:03.048316Z',\n",
       " 'properties': {'num_iterations': '1000',\n",
       "  'training_type': 'TrainFull',\n",
       "  'acquisition_function': 'EI',\n",
       "  'primary_metric': 'AUC_weighted',\n",
       "  'train_split': '0',\n",
       "  'acquisition_parameter': '0',\n",
       "  'num_cross_validation': None,\n",
       "  'target': 'cpu-cluster',\n",
       "  'AMLSettingsJsonString': '{\"path\":null,\"name\":\"Automated ML pipeline\",\"subscription_id\":\"976ee174-3882-4721-b90a-b5fef6b72f24\",\"resource_group\":\"aml-quickstarts-143071\",\"workspace_name\":\"quick-starts-ws-143071\",\"region\":\"southcentralus\",\"compute_target\":\"cpu-cluster\",\"spark_service\":null,\"azure_service\":\"remote\",\"many_models\":false,\"pipeline_fetch_max_batch_size\":1,\"enable_batch_run\":false,\"enable_run_restructure\":false,\"iterations\":1000,\"primary_metric\":\"AUC_weighted\",\"task_type\":\"classification\",\"data_script\":null,\"test_size\":0.0,\"validation_size\":0.0,\"n_cross_validations\":null,\"y_min\":null,\"y_max\":null,\"num_classes\":null,\"featurization\":\"auto\",\"_ignore_package_version_incompatibilities\":false,\"is_timeseries\":false,\"max_cores_per_iteration\":1,\"max_concurrent_iterations\":5,\"iteration_timeout_minutes\":null,\"mem_in_mb\":null,\"enforce_time_on_windows\":false,\"experiment_timeout_minutes\":30,\"experiment_exit_score\":null,\"whitelist_models\":null,\"blacklist_algos\":[\"TensorFlowLinearClassifier\",\"TensorFlowDNN\"],\"supported_models\":[\"SGD\",\"SVM\",\"DecisionTree\",\"KNN\",\"LogisticRegression\",\"LinearSVM\",\"GradientBoosting\",\"MultinomialNaiveBayes\",\"ExtremeRandomTrees\",\"TensorFlowDNN\",\"AveragedPerceptronClassifier\",\"TensorFlowLinearClassifier\",\"RandomForest\",\"XGBoostClassifier\",\"LightGBM\",\"BernoulliNaiveBayes\"],\"private_models\":[],\"auto_blacklist\":true,\"blacklist_samples_reached\":false,\"exclude_nan_labels\":true,\"verbosity\":20,\"_debug_log\":\"azureml_automl.log\",\"show_warnings\":false,\"model_explainability\":true,\"service_url\":null,\"sdk_url\":null,\"sdk_packages\":null,\"enable_onnx_compatible_models\":false,\"enable_split_onnx_featurizer_estimator_models\":false,\"vm_type\":\"STANDARD_D2_V2\",\"telemetry_verbosity\":20,\"send_telemetry\":true,\"enable_dnn\":false,\"scenario\":\"SDK-1.13.0\",\"environment_label\":null,\"save_mlflow\":false,\"force_text_dnn\":false,\"enable_feature_sweeping\":true,\"enable_early_stopping\":true,\"early_stopping_n_iters\":10,\"metrics\":null,\"enable_metric_confidence\":false,\"enable_ensembling\":true,\"enable_stack_ensembling\":true,\"ensemble_iterations\":15,\"enable_tf\":false,\"enable_subsampling\":null,\"subsample_seed\":null,\"enable_nimbusml\":false,\"enable_streaming\":false,\"force_streaming\":false,\"track_child_runs\":true,\"allowed_private_models\":[],\"label_column_name\":\"bad_loans\",\"weight_column_name\":null,\"cv_split_column_names\":null,\"enable_local_managed\":false,\"_local_managed_run_id\":null,\"cost_mode\":1,\"lag_length\":0,\"metric_operation\":\"maximize\",\"preprocess\":true}',\n",
       "  'DataPrepJsonString': '{\\\\\"training_data\\\\\": {\\\\\"datasetId\\\\\": \\\\\"a04324bd-6a4e-4191-81f0-f8ef47f07af8\\\\\"}, \\\\\"validation_data\\\\\": {\\\\\"datasetId\\\\\": \\\\\"5a5b5873-57c7-41a3-8244-38ae97f3eee1\\\\\"}, \\\\\"datasets\\\\\": 0}',\n",
       "  'EnableSubsampling': None,\n",
       "  'runTemplate': 'AutoML',\n",
       "  'azureml.runsource': 'automl',\n",
       "  'display_task_type': 'classification',\n",
       "  'dependencies_versions': '{\"azureml-widgets\": \"1.26.0\", \"azureml-train\": \"1.26.0\", \"azureml-train-restclients-hyperdrive\": \"1.26.0\", \"azureml-train-core\": \"1.26.0\", \"azureml-train-automl\": \"1.26.0\", \"azureml-train-automl-runtime\": \"1.26.0\", \"azureml-train-automl-client\": \"1.26.0\", \"azureml-tensorboard\": \"1.26.0\", \"azureml-telemetry\": \"1.26.0\", \"azureml-sdk\": \"1.26.0\", \"azureml-samples\": \"0+unknown\", \"azureml-pipeline\": \"1.26.0\", \"azureml-pipeline-steps\": \"1.26.0\", \"azureml-pipeline-core\": \"1.26.0\", \"azureml-opendatasets\": \"1.26.0\", \"azureml-model-management-sdk\": \"1.0.1b6.post1\", \"azureml-mlflow\": \"1.26.0\", \"azureml-interpret\": \"1.26.0\", \"azureml-explain-model\": \"1.26.0\", \"azureml-defaults\": \"1.26.0\", \"azureml-dataset-runtime\": \"1.26.0\", \"azureml-dataprep\": \"2.13.2\", \"azureml-dataprep-rslex\": \"1.11.2\", \"azureml-dataprep-native\": \"32.0.0\", \"azureml-datadrift\": \"1.26.0\", \"azureml-core\": \"1.26.0\", \"azureml-contrib-services\": \"1.26.0\", \"azureml-contrib-server\": \"1.26.0\", \"azureml-contrib-reinforcementlearning\": \"1.26.0\", \"azureml-contrib-pipeline-steps\": \"1.26.0\", \"azureml-contrib-notebook\": \"1.26.0\", \"azureml-contrib-gbdt\": \"1.26.0\", \"azureml-contrib-fairness\": \"1.26.0\", \"azureml-contrib-dataset\": \"1.26.0\", \"azureml-cli-common\": \"1.26.0\", \"azureml-automl-runtime\": \"1.26.0\", \"azureml-automl-dnn-nlp\": \"1.26.0\", \"azureml-automl-core\": \"1.26.0\", \"azureml-accel-models\": \"1.26.0\"}',\n",
       "  '_aml_system_scenario_identification': 'Remote.Parent',\n",
       "  'ClientType': 'SDK',\n",
       "  'environment_cpu_name': 'AzureML-AutoML',\n",
       "  'environment_cpu_label': 'prod',\n",
       "  'environment_gpu_name': 'AzureML-AutoML-GPU',\n",
       "  'environment_gpu_label': 'prod',\n",
       "  'root_attribution': 'automl',\n",
       "  'attribution': 'AutoML',\n",
       "  'Orchestrator': 'AutoML',\n",
       "  'CancelUri': 'https://southcentralus.experiments.azureml.net/jasmine/v1.0/subscriptions/976ee174-3882-4721-b90a-b5fef6b72f24/resourceGroups/aml-quickstarts-143071/providers/Microsoft.MachineLearningServices/workspaces/quick-starts-ws-143071/experimentids/e03659aa-0cc7-4eaf-8cfb-68e02fcc675a/cancel/AutoML_a3c272b0-8768-4d9c-b9c8-547f08a0283d',\n",
       "  'ClientSdkVersion': '1.25.0',\n",
       "  'snapshotId': '00000000-0000-0000-0000-000000000000',\n",
       "  'SetupRunId': 'AutoML_a3c272b0-8768-4d9c-b9c8-547f08a0283d_setup',\n",
       "  'SetupRunContainerId': 'dcid.AutoML_a3c272b0-8768-4d9c-b9c8-547f08a0283d_setup',\n",
       "  'FeaturizationRunJsonPath': 'featurizer_container.json',\n",
       "  'FeaturizationRunId': 'AutoML_a3c272b0-8768-4d9c-b9c8-547f08a0283d_featurize',\n",
       "  'ProblemInfoJsonString': '{\"dataset_num_categorical\": 0, \"is_sparse\": true, \"subsampling\": false, \"dataset_classes\": 2, \"dataset_features\": 35, \"dataset_samples\": 32116, \"single_frequency_class_detected\": false}',\n",
       "  'ModelExplainRunId': 'AutoML_a3c272b0-8768-4d9c-b9c8-547f08a0283d_ModelExplain'},\n",
       " 'inputDatasets': [{'dataset': {'id': 'a04324bd-6a4e-4191-81f0-f8ef47f07af8'}, 'consumptionDetails': {'type': 'RunInput', 'inputName': 'training_data', 'mechanism': 'Direct'}}, {'dataset': {'id': '5a5b5873-57c7-41a3-8244-38ae97f3eee1'}, 'consumptionDetails': {'type': 'RunInput', 'inputName': 'validation_data', 'mechanism': 'Direct'}}],\n",
       " 'outputDatasets': [],\n",
       " 'logFiles': {},\n",
       " 'submittedBy': 'ODL_User 143071'}"
      ]
     },
     "execution_count": 10,
     "metadata": {},
     "output_type": "execute_result"
    }
   ],
   "source": [
    "automl_run.wait_for_completion(show_output=True)"
   ]
  },
  {
   "cell_type": "markdown",
   "metadata": {},
   "source": [
    "## Best Model\n",
    "\n",
    "TODO: In the cell below, get the best model from the automl experiments and display all the properties of the model.\n",
    "\n"
   ]
  },
  {
   "cell_type": "code",
   "execution_count": 22,
   "metadata": {
    "gather": {
     "logged": 1598431425670
    },
    "jupyter": {
     "outputs_hidden": false,
     "source_hidden": false
    },
    "nteract": {
     "transient": {
      "deleting": false
     }
    }
   },
   "outputs": [
    {
     "name": "stdout",
     "output_type": "stream",
     "text": [
      "Run(Experiment: AutoML_Bad_loan_detection,\n",
      "Id: AutoML_a3c272b0-8768-4d9c-b9c8-547f08a0283d_38,\n",
      "Type: azureml.scriptrun,\n",
      "Status: Completed)\n",
      "Pipeline(memory=None,\n",
      "         steps=[('datatransformer',\n",
      "                 DataTransformer(enable_dnn=None, enable_feature_sweeping=None,\n",
      "                                 feature_sweeping_config=None,\n",
      "                                 feature_sweeping_timeout=None,\n",
      "                                 featurization_config=None, force_text_dnn=None,\n",
      "                                 is_cross_validation=None,\n",
      "                                 is_onnx_compatible=None, logger=None,\n",
      "                                 observer=None, task=None, working_dir=None)),\n",
      "                ('prefittedsoftvotingclassifier',...\n",
      "                                                                                                  min_weight_fraction_leaf=0.0,\n",
      "                                                                                                  n_estimators=25,\n",
      "                                                                                                  n_jobs=1,\n",
      "                                                                                                  oob_score=False,\n",
      "                                                                                                  random_state=None,\n",
      "                                                                                                  verbose=0,\n",
      "                                                                                                  warm_start=False))],\n",
      "                                                                     verbose=False))],\n",
      "                                               flatten_transform=None,\n",
      "                                               weights=[0.13333333333333333,\n",
      "                                                        0.26666666666666666,\n",
      "                                                        0.06666666666666667,\n",
      "                                                        0.06666666666666667,\n",
      "                                                        0.06666666666666667,\n",
      "                                                        0.13333333333333333,\n",
      "                                                        0.06666666666666667,\n",
      "                                                        0.06666666666666667,\n",
      "                                                        0.13333333333333333]))],\n",
      "         verbose=False)\n"
     ]
    }
   ],
   "source": [
    "import joblib\n",
    "\n",
    "best_run, fitted_model = automl_run.get_output()\n",
    "joblib.dump(fitted_model, './bestAutoMLModel.joblib')\n",
    "\n",
    "print(best_run)\n",
    "print(fitted_model)"
   ]
  },
  {
   "cell_type": "code",
   "execution_count": 12,
   "metadata": {
    "gather": {
     "logged": 1598431426111
    },
    "jupyter": {
     "outputs_hidden": false,
     "source_hidden": false
    },
    "nteract": {
     "transient": {
      "deleting": false
     }
    }
   },
   "outputs": [
    {
     "name": "stdout",
     "output_type": "stream",
     "text": [
      "AutoMLa3c272b0838\n"
     ]
    }
   ],
   "source": [
    "#TODO: Save the best model\n",
    "model = automl_run.register_model(description = \"AutoML Bad Loan detection\", tags={'bank':'loans'}) \n",
    "print(automl_run.model_id)"
   ]
  },
  {
   "cell_type": "markdown",
   "metadata": {},
   "source": [
    "## Model Deployment\n",
    "\n",
    "Remember you have to deploy only one of the two models you trained.. Perform the steps in the rest of this notebook only if you wish to deploy this model.\n",
    "\n",
    "TODO: In the cell below, register the model, create an inference config and deploy the model as a web service."
   ]
  },
  {
   "cell_type": "code",
   "execution_count": 13,
   "metadata": {
    "gather": {
     "logged": 1598431435189
    },
    "jupyter": {
     "outputs_hidden": false,
     "source_hidden": false
    },
    "nteract": {
     "transient": {
      "deleting": false
     }
    }
   },
   "outputs": [],
   "source": [
    "from azureml.core.model import InferenceConfig\n",
    "from azureml.core.environment import Environment\n",
    "\n",
    "env = best_run.get_environment()\n",
    "best_run.download_file('outputs/scoring_file_v_1_0_0.py', 'outputs/score.py')\n",
    "\n",
    "inference_config = InferenceConfig(entry_script='outputs/score.py', environment=env)"
   ]
  },
  {
   "cell_type": "markdown",
   "metadata": {
    "collapsed": true,
    "gather": {
     "logged": 1598431657736
    },
    "jupyter": {
     "outputs_hidden": false,
     "source_hidden": false
    },
    "nteract": {
     "transient": {
      "deleting": false
     }
    }
   },
   "source": [
    "TODO: In the cell below, send a request to the web service you deployed to test it."
   ]
  },
  {
   "cell_type": "code",
   "execution_count": 14,
   "metadata": {
    "gather": {
     "logged": 1598432707604
    },
    "jupyter": {
     "outputs_hidden": false,
     "source_hidden": false
    },
    "nteract": {
     "transient": {
      "deleting": false
     }
    }
   },
   "outputs": [
    {
     "name": "stdout",
     "output_type": "stream",
     "text": [
      "Tips: You can try get_logs(): https://aka.ms/debugimage#dockerlog or local deployment: https://aka.ms/debugimage#debug-locally to debug if deployment takes longer than 10 minutes.\n",
      "Running\n",
      "2021-04-18 18:43:53+00:00 Creating Container Registry if not exists..\n",
      "2021-04-18 18:44:04+00:00 Registering the environment..\n",
      "2021-04-18 18:44:06+00:00 Use the existing image.\n",
      "2021-04-18 18:44:10+00:00 Submitting deployment to compute..\n",
      "2021-04-18 18:44:16+00:00 Checking the status of deployment bad-loan-detection-service..\n",
      "2021-04-18 18:44:58+00:00 Checking the status of inference endpoint bad-loan-detection-service.\n",
      "Succeeded\n",
      "ACI service creation operation finished, operation \"Succeeded\"\n"
     ]
    }
   ],
   "source": [
    "service_name = 'bad-loan-detection-service'\n",
    "\n",
    "rest_service= Model.deploy(ws, service_name, [model], inference_config=inference_config, overwrite=True)\n",
    "rest_service.wait_for_deployment(show_output=True)\n",
    "rest_service.update(enable_app_insights=True)"
   ]
  },
  {
   "cell_type": "code",
   "execution_count": 15,
   "metadata": {},
   "outputs": [
    {
     "name": "stdout",
     "output_type": "stream",
     "text": [
      "Healthy\n",
      "http://b66cad7b-590d-400a-8009-5d45f0e0ac29.southcentralus.azurecontainer.io/score\n"
     ]
    }
   ],
   "source": [
    "print(rest_service.state)\n",
    "print(rest_service.scoring_uri)"
   ]
  },
  {
   "cell_type": "code",
   "execution_count": 16,
   "metadata": {},
   "outputs": [],
   "source": [
    "from azureml.core.authentication import InteractiveLoginAuthentication\n",
    "\n",
    "interactive_auth = InteractiveLoginAuthentication()\n",
    "auth_header = interactive_auth.get_authentication_header()"
   ]
  },
  {
   "cell_type": "code",
   "execution_count": 19,
   "metadata": {},
   "outputs": [
    {
     "name": "stdout",
     "output_type": "stream",
     "text": [
      "{\"data\": [{\"term\": 36, \"home_ownership\": \"MORTGAGE\", \"purpose\": \"debt_consolidation\", \"dti\": 14.51, \"revol_util\": 44.2, \"total_rec_late_fee\": 0.0, \"emp_length_num\": 11, \"short_emp\": 0, \"last_delinq_none\": 0, \"last_major_derog_none\": 1}, {\"term\": 36, \"home_ownership\": \"RENT\", \"purpose\": \"other\", \"dti\": 14.57, \"revol_util\": 48.0, \"total_rec_late_fee\": 0.0, \"emp_length_num\": 4, \"short_emp\": 0, \"last_delinq_none\": 1, \"last_major_derog_none\": 1}, {\"term\": 36, \"home_ownership\": \"MORTGAGE\", \"purpose\": \"medical\", \"dti\": 18.82, \"revol_util\": 93.1, \"total_rec_late_fee\": 0.0, \"emp_length_num\": 1, \"short_emp\": 1, \"last_delinq_none\": 1, \"last_major_derog_none\": 1}]}\n"
     ]
    }
   ],
   "source": [
    "data_sample = data_df.sample(3)\n",
    "y_true = data_sample.pop('bad_loans')\n",
    "sample_json = json.dumps({'data':data_sample.to_dict(orient='records')})\n",
    "print(sample_json)"
   ]
  },
  {
   "cell_type": "code",
   "execution_count": 20,
   "metadata": {},
   "outputs": [
    {
     "name": "stdout",
     "output_type": "stream",
     "text": [
      "Prediction:  {\"result\": [0, 0, 1]}\n",
      "True Values:  [0 0 1]\n"
     ]
    }
   ],
   "source": [
    "output = rest_service.run(sample_json)\n",
    "print('Prediction: ', output)\n",
    "print('True Values: ', y_true.values)"
   ]
  },
  {
   "cell_type": "code",
   "execution_count": 21,
   "metadata": {},
   "outputs": [
    {
     "name": "stdout",
     "output_type": "stream",
     "text": [
      "2021-04-18T18:44:51,172086900+00:00 - rsyslog/run \n",
      "2021-04-18T18:44:51,189464500+00:00 - nginx/run \n",
      "2021-04-18T18:44:51,171184100+00:00 - gunicorn/run \n",
      "2021-04-18T18:44:51,291774700+00:00 - iot-server/run \n",
      "/usr/sbin/nginx: /azureml-envs/azureml_8e5a5a51349877e7d47c6a2872e0ebfd/lib/libcrypto.so.1.0.0: no version information available (required by /usr/sbin/nginx)\n",
      "/usr/sbin/nginx: /azureml-envs/azureml_8e5a5a51349877e7d47c6a2872e0ebfd/lib/libcrypto.so.1.0.0: no version information available (required by /usr/sbin/nginx)\n",
      "/usr/sbin/nginx: /azureml-envs/azureml_8e5a5a51349877e7d47c6a2872e0ebfd/lib/libssl.so.1.0.0: no version information available (required by /usr/sbin/nginx)\n",
      "/usr/sbin/nginx: /azureml-envs/azureml_8e5a5a51349877e7d47c6a2872e0ebfd/lib/libssl.so.1.0.0: no version information available (required by /usr/sbin/nginx)\n",
      "/usr/sbin/nginx: /azureml-envs/azureml_8e5a5a51349877e7d47c6a2872e0ebfd/lib/libssl.so.1.0.0: no version information available (required by /usr/sbin/nginx)\n",
      "rsyslogd: /azureml-envs/azureml_8e5a5a51349877e7d47c6a2872e0ebfd/lib/libuuid.so.1: no version information available (required by rsyslogd)\n",
      "EdgeHubConnectionString and IOTEDGE_IOTHUBHOSTNAME are not set. Exiting...\n",
      "2021-04-18T18:44:54,176034000+00:00 - iot-server/finish 1 0\n",
      "2021-04-18T18:44:54,262443200+00:00 - Exit code 1 is normal. Not restarting iot-server.\n",
      "Starting gunicorn 19.9.0\n",
      "Listening at: http://127.0.0.1:31311 (62)\n",
      "Using worker: sync\n",
      "worker timeout is set to 300\n",
      "Booting worker with pid: 89\n",
      "SPARK_HOME not set. Skipping PySpark Initialization.\n",
      "Generating new fontManager, this may take some time...\n",
      "Initializing logger\n",
      "2021-04-18 18:45:13,195 | root | INFO | Starting up app insights client\n",
      "2021-04-18 18:45:13,261 | root | INFO | Starting up request id generator\n",
      "2021-04-18 18:45:13,262 | root | INFO | Starting up app insight hooks\n",
      "2021-04-18 18:45:13,262 | root | INFO | Invoking user's init function\n",
      "2021-04-18 18:45:50,062 | azureml.core | WARNING | Failure while loading azureml_run_type_providers. Failed to load entrypoint automl = azureml.train.automl.run:AutoMLRun._from_run_dto with exception cannot import name 'RunType'.\n",
      "Failure while loading azureml_run_type_providers. Failed to load entrypoint automl = azureml.train.automl.run:AutoMLRun._from_run_dto with exception cannot import name 'RunType'.\n",
      "2021-04-18 18:45:53,380 | root | INFO | Users's init has completed successfully\n",
      "2021-04-18 18:45:53,482 | root | INFO | Skipping middleware: dbg_model_info as it's not enabled.\n",
      "2021-04-18 18:45:53,482 | root | INFO | Skipping middleware: dbg_resource_usage as it's not enabled.\n",
      "2021-04-18 18:45:53,491 | root | INFO | Scoring timeout is found from os.environ: 60000 ms\n",
      "2021-04-18 18:45:55,126 | root | INFO | 200\n",
      "127.0.0.1 - - [18/Apr/2021:18:45:55 +0000] \"GET /swagger.json HTTP/1.0\" 200 2724 \"-\" \"Go-http-client/1.1\"\n",
      "2021-04-18 18:45:59,629 | root | INFO | 200\n",
      "127.0.0.1 - - [18/Apr/2021:18:45:59 +0000] \"GET /swagger.json HTTP/1.0\" 200 2724 \"-\" \"Go-http-client/1.1\"\n",
      "2021-04-18 18:46:01,723 | root | INFO | 200\n",
      "127.0.0.1 - - [18/Apr/2021:18:46:01 +0000] \"GET /swagger.json HTTP/1.0\" 200 2724 \"-\" \"Go-http-client/1.1\"\n",
      "2021-04-18 18:46:27,631 | root | INFO | Validation Request Content-Type\n",
      "2021-04-18 18:46:27,632 | root | INFO | Scoring Timer is set to 60.0 seconds\n",
      "2021-04-18 18:46:28,692 | root | INFO | 200\n",
      "127.0.0.1 - - [18/Apr/2021:18:46:28 +0000] \"POST /score HTTP/1.0\" 200 25 \"-\" \"python-requests/2.25.1\"\n",
      "2021-04-18 18:46:42,613 | root | INFO | Validation Request Content-Type\n",
      "2021-04-18 18:46:42,615 | root | INFO | Scoring Timer is set to 60.0 seconds\n",
      "2021-04-18 18:46:43,378 | root | INFO | 200\n",
      "127.0.0.1 - - [18/Apr/2021:18:46:43 +0000] \"POST /score HTTP/1.0\" 200 25 \"-\" \"python-requests/2.25.1\"\n",
      "\n"
     ]
    }
   ],
   "source": [
    "logs = rest_service.get_logs()\n",
    "\n",
    "for line in logs.split('\\n'):\n",
    "    print(line)\n"
   ]
  },
  {
   "cell_type": "markdown",
   "metadata": {
    "collapsed": true,
    "gather": {
     "logged": 1598432765711
    },
    "jupyter": {
     "outputs_hidden": false,
     "source_hidden": false
    },
    "nteract": {
     "transient": {
      "deleting": false
     }
    }
   },
   "source": [
    "TODO: In the cell below, print the logs of the web service and delete the service"
   ]
  },
  {
   "cell_type": "code",
   "execution_count": 23,
   "metadata": {
    "jupyter": {
     "outputs_hidden": false,
     "source_hidden": false
    },
    "nteract": {
     "transient": {
      "deleting": false
     }
    }
   },
   "outputs": [],
   "source": [
    "rest_service.delete()\n",
    "cpu_cluster.delete()"
   ]
  }
 ],
 "metadata": {
  "kernel_info": {
   "name": "python3-azureml"
  },
  "kernelspec": {
   "display_name": "Python 3",
   "language": "python",
   "name": "python3"
  },
  "language_info": {
   "codemirror_mode": {
    "name": "ipython",
    "version": 3
   },
   "file_extension": ".py",
   "mimetype": "text/x-python",
   "name": "python",
   "nbconvert_exporter": "python",
   "pygments_lexer": "ipython3",
   "version": "3.6.10"
  },
  "nteract": {
   "version": "nteract-front-end@1.0.0"
  }
 },
 "nbformat": 4,
 "nbformat_minor": 2
}
